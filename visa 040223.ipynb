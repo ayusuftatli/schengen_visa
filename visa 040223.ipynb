{
 "cells": [
  {
   "cell_type": "markdown",
   "id": "e784770d-6f87-4832-a296-f4e33e96e9b4",
   "metadata": {},
   "source": [
    "# Asylum Applications and Schengen Visa Rejection Rates: Exploring the Connection"
   ]
  },
  {
   "cell_type": "markdown",
   "id": "02dcac96-2524-4f02-a6e6-61ac9164b1a6",
   "metadata": {},
   "source": [
    "In this post, I'll be discussing the intriguing relationship between the number of asylum applications and Schengen visa rejection rates. In the past decades, political unrest, humanitarian crises, or sheer poverty have forced many people to seek refuge in Schengen countries. This made me wonder if the increase in asylum applications could be affecting the Schengen visa rejection rates for applicants from these troubled countries. \n",
    "\n",
    "My question is: Is there a correlation between the increasing number of asylum applications from a country's citizens and the subsequent rise in rejection rates for Schengen visa applications from that country's residents?"
   ]
  },
  {
   "cell_type": "markdown",
   "id": "ce55776b-4a5e-4881-b597-a17a134c0d1a",
   "metadata": {},
   "source": [
    "## Creating the DataFrame\n",
    "The data of each year is stored in different excel sheets, and a third of them are not formatted the same. However, this is easily solvable with Python.\n",
    "\n",
    "I stored the similarly-formatted excel files in the same folder and loaded them onto Pandas. After merging them together, I used \"re.findall()\" to assign the proper year based on the file name which includes the year."
   ]
  },
  {
   "cell_type": "markdown",
   "id": "87f85996-c15a-4f25-9d82-07c388893766",
   "metadata": {},
   "source": [
    "| app_country      | Country where the applications was made |\n",
    "|------------------|-----------------------------------------|\n",
    "| schengen_state   | Schengen state that applicant applied to|\n",
    "| consulate        | Schengen state consulate               |\n",
    "| app              | Number of Schengen visa applications    |\n",
    "| rejected         | Number of Schengen visa rejections      |\n",
    "| asyl_app         | Asylum applications made by nationals of the \"application country\" in \"Schengen\" states |\n"
   ]
  },
  {
   "cell_type": "code",
   "execution_count": 90,
   "id": "4c512e38-50fe-401c-9fa7-463d5538f738",
   "metadata": {
    "tags": []
   },
   "outputs": [],
   "source": [
    "import pandas as pd\n",
    "import glob\n",
    "import os\n",
    "import re\n",
    "import numpy as np\n",
    "import seaborn as sns\n",
    "import matplotlib.pyplot as plt\n",
    "import warnings\n",
    "warnings.filterwarnings('ignore')\n",
    "import re\n",
    "import pycountry\n",
    "import country_converter as coco\n",
    "from scipy import stats\n",
    "from scipy.stats import spearmanr\n",
    "import statsmodels.api as sm"
   ]
  },
  {
   "cell_type": "code",
   "execution_count": 2,
   "id": "8eb6773f-ec8f-4e6e-839f-0d5eccb7d552",
   "metadata": {},
   "outputs": [],
   "source": [
    "df = pd.DataFrame()\n",
    "for f in glob.glob('.../*.xlsx'):\n",
    "    data = pd.read_excel(f, sheet_name='Data for consulates')\n",
    "    data['year'] = int(re.findall(r'.*([1-3][0-9]{3})', f)[0])\n",
    "    df = df.append(data,ignore_index=True)"
   ]
  },
  {
   "cell_type": "code",
   "execution_count": 3,
   "id": "54395051-6040-4df5-a93b-e1645d2978e8",
   "metadata": {},
   "outputs": [],
   "source": [
    "df = df.iloc[:, [0,1,2,8,9,10,12,13,-1]]"
   ]
  },
  {
   "cell_type": "code",
   "execution_count": 4,
   "id": "966516eb-6270-49ab-a90c-4c3d40fe0e9c",
   "metadata": {},
   "outputs": [],
   "source": [
    "column_names = [\"schengen_state\", \"app_country\", \"consulate\", \"app\",\"total_issued\", \"mev_issued\", \n",
    "                \"ltv\", \"rejected\", 'year']\n",
    "df.columns = column_names"
   ]
  },
  {
   "cell_type": "markdown",
   "id": "3fa174bf-ec51-4716-8fc1-4e1e0bf2935e",
   "metadata": {},
   "source": [
    "I need to reformat the ones that are formatted properly, starting with 2013. I add the year column manually. To standardise the column names, I check that the columns of the first dataframe and the 2013 dataframe are aligned and assign the new dataframe the names from the original column"
   ]
  },
  {
   "cell_type": "code",
   "execution_count": 5,
   "id": "ba90b31f-b288-4d94-be3c-708673257d51",
   "metadata": {},
   "outputs": [],
   "source": [
    "df2013 = pd.read_excel(\".../synthese_2013_with_filters_en.xls\", sheet_name='Complete data')"
   ]
  },
  {
   "cell_type": "code",
   "execution_count": 6,
   "id": "9a0509fb-bc28-4abb-af02-77c11295d9e5",
   "metadata": {},
   "outputs": [],
   "source": [
    "df2013['year'] = 2013\n",
    "df2013 = df2013.iloc[:, [0,1,2,8,9,10,12,13,-1]]\n",
    "df2013.columns = df.columns"
   ]
  },
  {
   "cell_type": "markdown",
   "id": "ce3f71b4-8fd1-4066-a166-c0824d908b73",
   "metadata": {},
   "source": [
    "Reading the 2012 file:"
   ]
  },
  {
   "cell_type": "code",
   "execution_count": 7,
   "id": "ef059b76-3909-48ff-bbd6-55b3fdad4243",
   "metadata": {},
   "outputs": [],
   "source": [
    "df2012 = pd.read_excel(\".../synthese_2012_with_filters_en.xlsx\", sheet_name='Sheet1')"
   ]
  },
  {
   "cell_type": "code",
   "execution_count": 8,
   "id": "c8c2c2a4-73b2-49bd-9244-6b0c56507bbc",
   "metadata": {},
   "outputs": [
    {
     "data": {
      "text/html": [
       "<div>\n",
       "<style scoped>\n",
       "    .dataframe tbody tr th:only-of-type {\n",
       "        vertical-align: middle;\n",
       "    }\n",
       "\n",
       "    .dataframe tbody tr th {\n",
       "        vertical-align: top;\n",
       "    }\n",
       "\n",
       "    .dataframe thead th {\n",
       "        text-align: right;\n",
       "    }\n",
       "</style>\n",
       "<table border=\"1\" class=\"dataframe\">\n",
       "  <thead>\n",
       "    <tr style=\"text-align: right;\">\n",
       "      <th></th>\n",
       "      <th>Schengen State</th>\n",
       "      <th>World region</th>\n",
       "      <th>Country where consulate is located</th>\n",
       "      <th>Location of consulate</th>\n",
       "      <th>A visas issued</th>\n",
       "      <th>Multiple A visas issued</th>\n",
       "      <th>A Visas applied for</th>\n",
       "      <th>A visas not issued</th>\n",
       "      <th>C visas issued (including MEV) \\n</th>\n",
       "      <th>Multiple entry C visas issued</th>\n",
       "      <th>Share of MEVs on issued C visas</th>\n",
       "      <th>C visas applied for</th>\n",
       "      <th>C visas not issued</th>\n",
       "      <th>Total A and C visas issued  (including multiple-entry A visas and multiple-entry C visas)</th>\n",
       "      <th>Total A and C visas applied for.</th>\n",
       "      <th>Total A and C visas not issued</th>\n",
       "      <th>Not issued rate for A and C visas</th>\n",
       "      <th>Total LTV visas issued</th>\n",
       "      <th>Total A, C and LTV visas issued</th>\n",
       "      <th>Rate LTV visas issued / C visas issued</th>\n",
       "    </tr>\n",
       "  </thead>\n",
       "  <tbody>\n",
       "    <tr>\n",
       "      <th>0</th>\n",
       "      <td>NaN</td>\n",
       "      <td>NaN</td>\n",
       "      <td>NaN</td>\n",
       "      <td>NaN</td>\n",
       "      <td>NaN</td>\n",
       "      <td>NaN</td>\n",
       "      <td>NaN</td>\n",
       "      <td>NaN</td>\n",
       "      <td>NaN</td>\n",
       "      <td>NaN</td>\n",
       "      <td>NaN</td>\n",
       "      <td>NaN</td>\n",
       "      <td>NaN</td>\n",
       "      <td>NaN</td>\n",
       "      <td>NaN</td>\n",
       "      <td>NaN</td>\n",
       "      <td>NaN</td>\n",
       "      <td>NaN</td>\n",
       "      <td>NaN</td>\n",
       "      <td>NaN</td>\n",
       "    </tr>\n",
       "    <tr>\n",
       "      <th>1</th>\n",
       "      <td>DENMARK</td>\n",
       "      <td>SOUTH&amp;EAST ASIA</td>\n",
       "      <td>AFGHANISTAN</td>\n",
       "      <td>KABUL</td>\n",
       "      <td>NaN</td>\n",
       "      <td>NaN</td>\n",
       "      <td>NaN</td>\n",
       "      <td>NaN</td>\n",
       "      <td>59</td>\n",
       "      <td>5</td>\n",
       "      <td>0.084746</td>\n",
       "      <td>74</td>\n",
       "      <td>7</td>\n",
       "      <td>59</td>\n",
       "      <td>74</td>\n",
       "      <td>7</td>\n",
       "      <td>0.094595</td>\n",
       "      <td>9</td>\n",
       "      <td>68</td>\n",
       "      <td>0.152542</td>\n",
       "    </tr>\n",
       "    <tr>\n",
       "      <th>2</th>\n",
       "      <td>France</td>\n",
       "      <td>SOUTH&amp;EAST ASIA</td>\n",
       "      <td>AFGHANISTAN</td>\n",
       "      <td>KABUL</td>\n",
       "      <td>4</td>\n",
       "      <td>NaN</td>\n",
       "      <td>4</td>\n",
       "      <td>NaN</td>\n",
       "      <td>1143</td>\n",
       "      <td>141</td>\n",
       "      <td>0.12336</td>\n",
       "      <td>1189</td>\n",
       "      <td>46</td>\n",
       "      <td>1147</td>\n",
       "      <td>1193</td>\n",
       "      <td>46</td>\n",
       "      <td>0.038558</td>\n",
       "      <td>547</td>\n",
       "      <td>1694</td>\n",
       "      <td>0.478565</td>\n",
       "    </tr>\n",
       "    <tr>\n",
       "      <th>3</th>\n",
       "      <td>GERMANY</td>\n",
       "      <td>SOUTH&amp;EAST ASIA</td>\n",
       "      <td>AFGHANISTAN</td>\n",
       "      <td>KABUL</td>\n",
       "      <td>NaN</td>\n",
       "      <td>NaN</td>\n",
       "      <td>NaN</td>\n",
       "      <td>NaN</td>\n",
       "      <td>1571</td>\n",
       "      <td>22</td>\n",
       "      <td>0.014004</td>\n",
       "      <td>2892</td>\n",
       "      <td>1321</td>\n",
       "      <td>1571</td>\n",
       "      <td>2892</td>\n",
       "      <td>1321</td>\n",
       "      <td>0.456777</td>\n",
       "      <td>52</td>\n",
       "      <td>1623</td>\n",
       "      <td>0.0331</td>\n",
       "    </tr>\n",
       "    <tr>\n",
       "      <th>4</th>\n",
       "      <td>ITALY</td>\n",
       "      <td>SOUTH&amp;EAST ASIA</td>\n",
       "      <td>AFGHANISTAN</td>\n",
       "      <td>KABUL</td>\n",
       "      <td>0</td>\n",
       "      <td>0</td>\n",
       "      <td>0</td>\n",
       "      <td>0</td>\n",
       "      <td>417</td>\n",
       "      <td>324</td>\n",
       "      <td>0.776978</td>\n",
       "      <td>471</td>\n",
       "      <td>54</td>\n",
       "      <td>417</td>\n",
       "      <td>471</td>\n",
       "      <td>54</td>\n",
       "      <td>0.11465</td>\n",
       "      <td>243</td>\n",
       "      <td>660</td>\n",
       "      <td>0.582734</td>\n",
       "    </tr>\n",
       "  </tbody>\n",
       "</table>\n",
       "</div>"
      ],
      "text/plain": [
       "  Schengen State     World region  Country where consulate is located   \\\n",
       "0             NaN              NaN                                 NaN   \n",
       "1         DENMARK  SOUTH&EAST ASIA                         AFGHANISTAN   \n",
       "2          France  SOUTH&EAST ASIA                         AFGHANISTAN   \n",
       "3         GERMANY  SOUTH&EAST ASIA                         AFGHANISTAN   \n",
       "4           ITALY  SOUTH&EAST ASIA                         AFGHANISTAN   \n",
       "\n",
       "  Location of consulate  A visas issued  Multiple A visas issued  \\\n",
       "0                    NaN             NaN                     NaN   \n",
       "1                  KABUL             NaN                     NaN   \n",
       "2                  KABUL               4                     NaN   \n",
       "3                  KABUL             NaN                     NaN   \n",
       "4                  KABUL               0                       0   \n",
       "\n",
       "  A Visas applied for  A visas not issued  C visas issued (including MEV) \\n  \\\n",
       "0                  NaN                 NaN                               NaN   \n",
       "1                  NaN                 NaN                                59   \n",
       "2                    4                 NaN                              1143   \n",
       "3                  NaN                 NaN                              1571   \n",
       "4                    0                   0                               417   \n",
       "\n",
       "  Multiple entry C visas issued Share of MEVs on issued C visas  \\\n",
       "0                           NaN                             NaN   \n",
       "1                             5                        0.084746   \n",
       "2                           141                         0.12336   \n",
       "3                            22                        0.014004   \n",
       "4                           324                        0.776978   \n",
       "\n",
       "  C visas applied for C visas not issued  \\\n",
       "0                 NaN                NaN   \n",
       "1                  74                  7   \n",
       "2                1189                 46   \n",
       "3                2892               1321   \n",
       "4                 471                 54   \n",
       "\n",
       "  Total A and C visas issued  (including multiple-entry A visas and multiple-entry C visas)   \\\n",
       "0                                                NaN                                           \n",
       "1                                                 59                                           \n",
       "2                                               1147                                           \n",
       "3                                               1571                                           \n",
       "4                                                417                                           \n",
       "\n",
       "  Total A and C visas applied for.  Total A and C visas not issued  \\\n",
       "0                               NaN                            NaN   \n",
       "1                                74                              7   \n",
       "2                              1193                             46   \n",
       "3                              2892                           1321   \n",
       "4                               471                             54   \n",
       "\n",
       "  Not issued rate for A and C visas  Total LTV visas issued  \\\n",
       "0                                NaN                    NaN   \n",
       "1                           0.094595                      9   \n",
       "2                           0.038558                    547   \n",
       "3                           0.456777                     52   \n",
       "4                            0.11465                    243   \n",
       "\n",
       "  Total A, C and LTV visas issued Rate LTV visas issued / C visas issued  \n",
       "0                             NaN                                    NaN  \n",
       "1                              68                               0.152542  \n",
       "2                            1694                               0.478565  \n",
       "3                            1623                                 0.0331  \n",
       "4                             660                               0.582734  "
      ]
     },
     "execution_count": 8,
     "metadata": {},
     "output_type": "execute_result"
    }
   ],
   "source": [
    "df2012.head()"
   ]
  },
  {
   "cell_type": "markdown",
   "id": "b330c274-a055-4ea7-8d6b-4e6976cb169b",
   "metadata": {},
   "source": [
    "Choosing the necessary columns and renaming them with the column names of the main dataframe:"
   ]
  },
  {
   "cell_type": "code",
   "execution_count": 9,
   "id": "95a45918-45c5-4057-a376-f7e95561806e",
   "metadata": {},
   "outputs": [],
   "source": [
    "df2012 = df2012.iloc[:, [0,2,3,11,8,9,12]]"
   ]
  },
  {
   "cell_type": "code",
   "execution_count": 10,
   "id": "0b67ea78-6b3f-4f7f-98e6-25f59cae5ebb",
   "metadata": {},
   "outputs": [],
   "source": [
    "column_names2 = [\"schengen_state\", \"app_country\", \"consulate\", \"app\",\"total_issued\", \"mev_issued\", \"rejected\"]\n",
    "df2012.columns = column_names2\n",
    "df2012['year'] = 2012"
   ]
  },
  {
   "cell_type": "code",
   "execution_count": 11,
   "id": "2e00da9c-83ad-4927-9754-6ed9c9a96769",
   "metadata": {},
   "outputs": [],
   "source": [
    "df2011 = pd.read_excel(\".../synthese_2011_with_filters_en.xls\", sheet_name='SCHENGEN')"
   ]
  },
  {
   "cell_type": "code",
   "execution_count": 12,
   "id": "bbd9ed30-a48c-4f2d-a66f-2d70af1bd46d",
   "metadata": {},
   "outputs": [],
   "source": [
    "df2011 = df2011.iloc[:, [0,2,3,11,8,9,12]]\n",
    "column_names2 = [\"schengen_state\", \"app_country\", \"consulate\", \"app\",\"total_issued\", \"mev_issued\", \"rejected\"]\n",
    "df2011.columns = column_names2\n",
    "df2011['year'] = 2011"
   ]
  },
  {
   "cell_type": "code",
   "execution_count": 13,
   "id": "391972ba-0fff-4c6b-8b23-e8c0c14135d0",
   "metadata": {},
   "outputs": [],
   "source": [
    "df2010 = pd.read_excel(\".../synthese_2010_with_filters_en.xls\", sheet_name='SCHENGEN')"
   ]
  },
  {
   "cell_type": "code",
   "execution_count": 14,
   "id": "293352d2-38f4-4704-b4b6-dfd8095e1425",
   "metadata": {},
   "outputs": [],
   "source": [
    "df2010 = df2010.iloc[:, [2,0,1,9,6,7]]\n",
    "column_names2 = [\"schengen_state\", \"app_country\", \"consulate\", \"app\",\"total_issued\", \"mev_issued\"]\n",
    "df2010.columns = column_names2\n",
    "df2010['rejected'] = df2010['app'] - df2010['total_issued']\n",
    "df2010['year'] = 2010\n",
    "df2010['schengen_state'].replace('EL', 'GR', inplace=True)"
   ]
  },
  {
   "cell_type": "code",
   "execution_count": 15,
   "id": "62b67c1e-85bb-4341-b058-b69d65945c69",
   "metadata": {},
   "outputs": [
    {
     "name": "stdout",
     "output_type": "stream",
     "text": [
      "['Austria' 'Belgium' 'Switzerland' 'Czechia' 'Germany' 'Denmark' 'Estonia'\n",
      " 'Spain' 'Greece' 'Finland' 'France' 'Hungary' 'Iceland' 'Italy'\n",
      " 'Lithuania' 'Luxembourg' 'Latvia' 'Malta' 'Netherlands' 'Norway' 'Poland'\n",
      " 'Portugal' 'Sweden' 'Slovenia' 'Slovakia' 'Unknown code']\n"
     ]
    }
   ],
   "source": [
    "input_code = df2010['schengen_state']\n",
    "\n",
    "countries = {}\n",
    "for country in pycountry.countries:\n",
    "    countries[country.alpha_2] = country.name\n",
    "\n",
    "df2010['schengen_state'] = [countries.get(country, 'Unknown code') for country in input_code]\n",
    "print(df2010['schengen_state'].unique())"
   ]
  },
  {
   "cell_type": "code",
   "execution_count": 16,
   "id": "6ad241c1-d4fb-4b65-9da0-46b4b1259a32",
   "metadata": {},
   "outputs": [],
   "source": [
    "df2009 = pd.read_excel(\".../statistiques2009.xls\", sheet_name='Visa Statistics 2009')"
   ]
  },
  {
   "cell_type": "code",
   "execution_count": 17,
   "id": "51586ecd-270c-4746-b030-08e8967ad99a",
   "metadata": {},
   "outputs": [],
   "source": [
    "df2009 = df2009.iloc[:, [3,1,2,7,6, 11]]\n",
    "column_names3 = [\"schengen_state\", \"app_country\", \"consulate\", \"app\",\"total_issued\", \"rejected\"]\n",
    "df2009.columns = column_names3\n",
    "df2009['year'] = 2009"
   ]
  },
  {
   "cell_type": "markdown",
   "id": "f323c0be-5529-4046-ad19-f4ac5ddaad89",
   "metadata": {},
   "source": [
    "After I am done with this process, I put the \"delinquent\" data frames in a list and merged with the main data frame:"
   ]
  },
  {
   "cell_type": "code",
   "execution_count": 18,
   "id": "e7407f9a-d74a-4dd0-97a0-3a1cb62a5c42",
   "metadata": {},
   "outputs": [],
   "source": [
    "df_list = [df2013, df2012, df2011, df2010, df2009]"
   ]
  },
  {
   "cell_type": "code",
   "execution_count": 19,
   "id": "20b660d9-d366-489a-96c7-a8a900e680a1",
   "metadata": {},
   "outputs": [],
   "source": [
    "for g in df_list:\n",
    "    df = df.append(g,ignore_index=True)"
   ]
  },
  {
   "cell_type": "code",
   "execution_count": 20,
   "id": "a61bf592-1d89-4c73-b442-2903677639e7",
   "metadata": {},
   "outputs": [
    {
     "data": {
      "text/plain": [
       "array([2021, 2017, 2018, 2019, 2016, 2015, 2014, 2020, 2013, 2012, 2011,\n",
       "       2010, 2009])"
      ]
     },
     "execution_count": 20,
     "metadata": {},
     "output_type": "execute_result"
    }
   ],
   "source": [
    "df['year'].unique()"
   ]
  },
  {
   "cell_type": "markdown",
   "id": "cf2f4f07-22c4-4594-bfcb-d5d78acfb08b",
   "metadata": {},
   "source": [
    "### Cleaning the DataFrame"
   ]
  },
  {
   "cell_type": "markdown",
   "id": "6d18eecb-783a-42bf-a96b-3888a10e4226",
   "metadata": {},
   "source": [
    "The excel files included some explanatory notes that do not belong in the daraframe. Since they start from the third column, it was easy to remove with drop.na():"
   ]
  },
  {
   "cell_type": "code",
   "execution_count": 21,
   "id": "efa0d87e-d2fa-44de-a768-0d83ccded2ef",
   "metadata": {},
   "outputs": [],
   "source": [
    "df = df.dropna(subset=['schengen_state', 'app_country'])\n",
    "df = df.fillna(0)"
   ]
  },
  {
   "cell_type": "markdown",
   "id": "d5adb261-0586-4467-bd0a-bb4e42e60c6b",
   "metadata": {},
   "source": [
    "Checking amount of na values:"
   ]
  },
  {
   "cell_type": "code",
   "execution_count": 22,
   "id": "d45d412f-6cb2-4e89-8761-0d66b01fd1a1",
   "metadata": {},
   "outputs": [
    {
     "name": "stdout",
     "output_type": "stream",
     "text": [
      "schengen_state - 0.0%\n",
      "app_country - 0.0%\n",
      "consulate - 0.0%\n",
      "app - 0.0%\n",
      "total_issued - 0.0%\n",
      "mev_issued - 0.0%\n",
      "ltv - 0.0%\n",
      "rejected - 0.0%\n",
      "year - 0.0%\n"
     ]
    }
   ],
   "source": [
    "for col in df.columns:\n",
    "    pct_missing = (np.mean(df[col].isnull())*100)\n",
    "    print('{} - {}%'.format(col, pct_missing))"
   ]
  },
  {
   "cell_type": "markdown",
   "id": "3de1c455-f58c-4182-810a-77b512f1bdf8",
   "metadata": {},
   "source": [
    "Checking column types:"
   ]
  },
  {
   "cell_type": "code",
   "execution_count": 23,
   "id": "fda6f62e-8a68-49f2-bc18-db553870267c",
   "metadata": {},
   "outputs": [
    {
     "data": {
      "text/plain": [
       "schengen_state     object\n",
       "app_country        object\n",
       "consulate          object\n",
       "app               float64\n",
       "total_issued      float64\n",
       "mev_issued        float64\n",
       "ltv               float64\n",
       "rejected           object\n",
       "year                int64\n",
       "dtype: object"
      ]
     },
     "execution_count": 23,
     "metadata": {},
     "output_type": "execute_result"
    }
   ],
   "source": [
    "df.dtypes"
   ]
  },
  {
   "cell_type": "markdown",
   "id": "941d027f-2fcd-4cbb-a144-b56fffc5bbf0",
   "metadata": {},
   "source": [
    "The \"rejected\" (number of rejections)column is stored as an object, so I should turn it into a numeric one:"
   ]
  },
  {
   "cell_type": "code",
   "execution_count": 24,
   "id": "c9c50c8f-7f01-4bf1-a5c8-5821b8f20ecf",
   "metadata": {},
   "outputs": [],
   "source": [
    "df['rejected'] = df['rejected'].apply(pd.to_numeric, errors='coerce').astype('float64')"
   ]
  },
  {
   "cell_type": "markdown",
   "id": "cbe62c74-73c6-407b-854b-1e05acb5a175",
   "metadata": {},
   "source": [
    "Just making sure that there are no empty spaces:"
   ]
  },
  {
   "cell_type": "code",
   "execution_count": 25,
   "id": "3154e572-4525-40df-84d4-0551f3925a52",
   "metadata": {},
   "outputs": [],
   "source": [
    "df['app_country']=df['app_country'].str.strip()\n",
    "df['consulate']=df['consulate'].str.strip()\n",
    "df['schengen_state'] = df['schengen_state'].str.strip()"
   ]
  },
  {
   "cell_type": "markdown",
   "id": "29031b64-74f4-4187-9aa8-2e49bcbc5867",
   "metadata": {},
   "source": [
    "Checking if there is a case mismatch:"
   ]
  },
  {
   "cell_type": "code",
   "execution_count": 26,
   "id": "72ca3b4e-2359-426c-8d0d-d7d2e8eb062b",
   "metadata": {},
   "outputs": [
    {
     "data": {
      "text/plain": [
       "array(['Austria', 'Belgium', 'Czech Republic', 'Denmark', 'Estonia',\n",
       "       'Finland', 'France', 'Germany', 'Greece', 'Hungary', 'Iceland',\n",
       "       'Italy', 'Latvia', 'Lithuania', 'Luxembourg', 'Malta',\n",
       "       'Netherlands', 'Norway', 'Poland', 'Portugal', 'Slovakia',\n",
       "       'Slovenia', 'Spain', 'Sweden', 'Switzerland', 'DENMARK', 'GERMANY',\n",
       "       'ITALY', 'NETHERLANDS', 'NORWAY', 'POLAND', 'SPAIN', 'AUSTRIA',\n",
       "       'CZECH REPUBLIC', 'GREECE', 'HUNGARY', 'SLOVENIA', 'BELGIUM',\n",
       "       'FINLAND', 'SWEDEN', 'SWITZERLAND', 'LITHUANIA', 'SLOVAKIA',\n",
       "       'ESTONIA', 'MALTA', 'LATVIA', 'ICELAND', 'FRANCE', 'CZECH REP.',\n",
       "       'Czechia', 'BULGARIA', 'ROMANIA', 'PORTUGAL', 'CYPRUS',\n",
       "       'LUXEMBOURG'], dtype=object)"
      ]
     },
     "execution_count": 26,
     "metadata": {},
     "output_type": "execute_result"
    }
   ],
   "source": [
    "df['schengen_state'].unique()"
   ]
  },
  {
   "cell_type": "markdown",
   "id": "04f3dd13-55c9-4ddc-a59d-4115c8ce83ec",
   "metadata": {},
   "source": [
    "There is a case mismatch. I'll fix that:"
   ]
  },
  {
   "cell_type": "code",
   "execution_count": 27,
   "id": "6922793c-f4ef-46f7-957c-14794f5cb9a8",
   "metadata": {},
   "outputs": [],
   "source": [
    "df['schengen_state'] = df['schengen_state'].str.title()"
   ]
  },
  {
   "cell_type": "code",
   "execution_count": 28,
   "id": "fab283d3-0fed-4ea6-8a59-e6f4352ed3f6",
   "metadata": {},
   "outputs": [
    {
     "data": {
      "text/plain": [
       "array(['Austria', 'Belgium', 'Czech Republic', 'Denmark', 'Estonia',\n",
       "       'Finland', 'France', 'Germany', 'Greece', 'Hungary', 'Iceland',\n",
       "       'Italy', 'Latvia', 'Lithuania', 'Luxembourg', 'Malta',\n",
       "       'Netherlands', 'Norway', 'Poland', 'Portugal', 'Slovakia',\n",
       "       'Slovenia', 'Spain', 'Sweden', 'Switzerland', 'Czech Rep.',\n",
       "       'Czechia', 'Bulgaria', 'Romania', 'Cyprus'], dtype=object)"
      ]
     },
     "execution_count": 28,
     "metadata": {},
     "output_type": "execute_result"
    }
   ],
   "source": [
    "df['schengen_state'].unique()"
   ]
  },
  {
   "cell_type": "markdown",
   "id": "8ebf1566-3e97-46cd-8e29-5da484ecddb2",
   "metadata": {},
   "source": [
    "Czechia has many names let's change that:"
   ]
  },
  {
   "cell_type": "code",
   "execution_count": 29,
   "id": "deffcd98-779c-40e8-8709-1e2c72cabf02",
   "metadata": {},
   "outputs": [],
   "source": [
    "df['schengen_state'] = df['schengen_state'].replace(['Czech Rep.', \"Czech Republic\"], \n",
    "                                                    ['Czechia' ,'Czechia'])"
   ]
  },
  {
   "cell_type": "markdown",
   "id": "690cc8ef-84e6-4ca1-8d11-24126c2de5dd",
   "metadata": {},
   "source": [
    "Also older datasets also included non-schengen countries: Bulgaria, Romania, Cyprus. Let's remove them"
   ]
  },
  {
   "cell_type": "code",
   "execution_count": 30,
   "id": "7ba83a35-c404-46f5-8260-e31fd6624fda",
   "metadata": {},
   "outputs": [],
   "source": [
    "df = df[df['schengen_state'].str.contains(\"Bulgaria|Romania|Cyprus\")==False]"
   ]
  },
  {
   "cell_type": "code",
   "execution_count": 31,
   "id": "a28b8475-075d-43d1-a805-e79b380ddaab",
   "metadata": {},
   "outputs": [
    {
     "data": {
      "text/plain": [
       "25"
      ]
     },
     "execution_count": 31,
     "metadata": {},
     "output_type": "execute_result"
    }
   ],
   "source": [
    "len(df['schengen_state'].unique())"
   ]
  },
  {
   "cell_type": "markdown",
   "id": "2f31abc1-7a31-4c48-bf4d-b7693783c99d",
   "metadata": {},
   "source": [
    "There are 25 schengen states excluding Liechtenstein, which is not in this dataframe. "
   ]
  },
  {
   "cell_type": "code",
   "execution_count": 32,
   "id": "b5be4486-76db-4fdf-9684-47c60660ac7f",
   "metadata": {},
   "outputs": [
    {
     "data": {
      "text/plain": [
       "array(['ALBANIA', 'ALGERIA', 'ARGENTINA', 'AUSTRALIA', 'AZERBAIJAN',\n",
       "       'BOSNIA AND HERZEGOVINA', 'BRAZIL', 'BULGARIA', 'CANADA', 'CHILE',\n",
       "       'CHINA', 'COLOMBIA', 'CROATIA', 'CUBA', 'CYPRUS', 'EGYPT',\n",
       "       'ETHIOPIA', 'GERMANY', 'HONG KONG S.A.R.', 'INDIA', 'INDONESIA',\n",
       "       'IRAN', 'IRELAND', 'ISRAEL', 'JAPAN', 'JORDAN', 'KAZAKHSTAN',\n",
       "       'KENYA', 'KUWAIT', 'LEBANON', 'MALAYSIA', 'MEXICO', 'MOROCCO',\n",
       "       'NIGERIA', 'NORTH MACEDONIA', 'OMAN', 'PAKISTAN', 'PERU',\n",
       "       'PHILIPPINES', 'ROMANIA', 'RUSSIAN FEDERATION', 'SAUDI ARABIA',\n",
       "       'SENEGAL', 'SERBIA', 'SLOVAKIA', 'SLOVENIA', 'SOUTH AFRICA',\n",
       "       'SOUTH KOREA', 'SYRIA', 'TAIWAN', 'THAILAND', 'TUNISIA', 'TURKEY',\n",
       "       'UKRAINE', 'UNITED ARAB EMIRATES', 'UNITED KINGDOM', 'USA',\n",
       "       'VIETNAM', 'ANGOLA', 'BELGIUM', 'BURKINA FASO', 'BURUNDI',\n",
       "       'CAMEROON', 'CONGO (DEMOCRATIC REPUBLIC)', \"COTE D'IVOIRE\",\n",
       "       'FRANCE', 'GREECE', 'HUNGARY', 'ITALY', 'JAMAICA', 'NETHERLANDS',\n",
       "       'PANAMA', 'POLAND', 'PORTUGAL', 'QATAR', 'RWANDA', 'SINGAPORE',\n",
       "       'SPAIN', 'SWITZERLAND', 'TANZANIA', 'UGANDA', 'AFGHANISTAN',\n",
       "       'ARMENIA', 'AUSTRIA', 'BELARUS', 'GEORGIA', 'GHANA', 'IRAQ',\n",
       "       'MOLDOVA', 'MONGOLIA', 'UZBEKISTAN', 'ZAMBIA', 'BANGLADESH',\n",
       "       'DENMARK', 'FINLAND', 'ICELAND', 'LATVIA', 'MALI', 'NORWAY',\n",
       "       'SWEDEN', 'KOSOVO', 'LITHUANIA', 'MOZAMBIQUE', 'NAMIBIA', 'NEPAL',\n",
       "       'BAHRAIN', 'BENIN', 'BOLIVIA', 'CAMBODIA',\n",
       "       'CENTRAL AFRICAN REPUBLIC', 'CHAD', 'COMOROS',\n",
       "       'CONGO (BRAZZAVILLE)', 'DJIBOUTI', 'DOMINICAN REPUBLIC', 'ECUADOR',\n",
       "       'EQUATORIAL GUINEA', 'GABON', 'GUATEMALA', 'GUINEA', 'HAITI',\n",
       "       'LAOS', 'MADAGASCAR', 'MALTA', 'MAURITANIA', 'MAURITIUS',\n",
       "       'MYANMAR', 'NEW ZEALAND', 'NIGER', 'SAINT LUCIA', 'SRI LANKA',\n",
       "       'SUDAN', 'SURINAME', 'TOGO', 'URUGUAY', 'ZIMBABWE', 'BOTSWANA',\n",
       "       'COSTA RICA', 'CZECH REPUBLIC', 'EL SALVADOR', 'ESTONIA',\n",
       "       'HONDURAS', 'KYRGYZSTAN', 'MONTENEGRO', 'NICARAGUA',\n",
       "       'PALESTINIAN AUTHORITY', 'PARAGUAY', 'TAJIKISTAN',\n",
       "       'TRINIDAD AND TOBAGO', 'TURKMENISTAN', 'VENEZUELA', 'ERITREA',\n",
       "       'HOLY SEE (VATICAN CITY STATE)', 'LIBYA', 'SAN MARINO',\n",
       "       'LUXEMBOURG', 'CAPE VERDE', 'GUINEA-BISSAU', 'MACAO S.A.R.',\n",
       "       'SAO TOME AND PRINCIPE', 'TIMOR-LESTE', 'ANDORRA', 'LIBERIA',\n",
       "       'FORMER YUGOSLAV REPUBLIC OF MACEDONIA', 'NORTH KOREA', 'FIJI',\n",
       "       'MONACO', 'SEYCHELLES', 'SOUTH SUDAN', 'VANUATU', 'HOLY SEE',\n",
       "       'BHUTAN', 'MALAWI', 'YEMEN', 'BRUNEI', 'PAPUA NEW GUINEA',\n",
       "       'IRAN, ISLAMIC REPUBLIC OF',\n",
       "       'CONGO, THE DEMOCRATIC REPUBLIC OF THE', 'LIBYAN ARAB JAMAHIRIYA',\n",
       "       'VIET NAM', 'CONGO', 'MOLDOVA, REPUBLIC OF', 'PALESTINE',\n",
       "       'TANZANIA, UNITED REPUBLIC OF', \"LAO PEOPLE'S DEMOCRATIC REPUBLIC\",\n",
       "       'MACAO', 'KOREA, REPUBLIC OF', 'TAIWAN, PROVINCE OF CHINA',\n",
       "       'SYRIAN ARAB REPUBLIC', \"KOREA, DEMOCRATIC PEOPLE'S REPUBLIC OF\",\n",
       "       'PUERTO RICO', 'PALESTINE (OCCUPIED TERRITORY OF)', 'BERMUDA',\n",
       "       'BRUNEI DARUSSALAM', 'MACEDONIA, THE FORMER YUGOSLAV REPUBLIC OF',\n",
       "       'HONG KONG', 'UNITED STATES'], dtype=object)"
      ]
     },
     "execution_count": 32,
     "metadata": {},
     "output_type": "execute_result"
    }
   ],
   "source": [
    "df['app_country'].unique()"
   ]
  },
  {
   "cell_type": "markdown",
   "id": "f2684c3f-5b85-4d4a-b99d-d38c464bcff1",
   "metadata": {},
   "source": [
    "I want to standardise the name of the countries of the laterIn this column all countries are in upper case. I want them in lower case but capitalised except the stop words. \n",
    "\n",
    "First, I converted all of the text in that column to lowercase using the str.lower() method.Next, I defined a function called title_except that capitalized the first letter of each word in a sentence or phrase, but with some exceptions. For example, if the words \"and\" or \"of\" were in the sentence, I wanted to keep them lowercase.After that, I created a list of exceptions containing the words I wanted to keep lowercase. In this case, the words were \"and\" and \"of\". Finally, I applied the title_except function to each value in the app_country column using the apply() method. I used a lambda function to pass the title_except function with the list of exceptions as the second argument. This way, I ensured that the first letter of each word in the app_country column was capitalized, except for the words \"and\" and \"of\":use:"
   ]
  },
  {
   "cell_type": "code",
   "execution_count": 33,
   "id": "bdaa9b10-22f2-4fcf-9234-ed65a814c31b",
   "metadata": {},
   "outputs": [],
   "source": [
    "df['app_country'] = df['app_country'].str.lower()\n",
    "def title_except(s, exceptions):\n",
    "    word_list = re.split(' ', s)    \n",
    "    final = [word_list[0].capitalize()]\n",
    "    for word in word_list[1:]:\n",
    "        final.append(word if word in exceptions else word.capitalize())\n",
    "    return \" \".join(final)\n",
    "\n",
    "articles = ['and', 'of']\n",
    "df['app_country'] = df['app_country'].apply(lambda x: title_except(x, articles))"
   ]
  },
  {
   "cell_type": "code",
   "execution_count": 34,
   "id": "66b1feb8-4729-4e40-9e35-d74e08823bea",
   "metadata": {},
   "outputs": [
    {
     "data": {
      "text/plain": [
       "array(['Albania', 'Algeria', 'Argentina', 'Australia', 'Azerbaijan',\n",
       "       'Bosnia and Herzegovina', 'Brazil', 'Bulgaria', 'Canada', 'Chile',\n",
       "       'China', 'Colombia', 'Croatia', 'Cuba', 'Cyprus', 'Egypt',\n",
       "       'Ethiopia', 'Germany', 'Hong Kong S.a.r.', 'India', 'Indonesia',\n",
       "       'Iran', 'Ireland', 'Israel', 'Japan', 'Jordan', 'Kazakhstan',\n",
       "       'Kenya', 'Kuwait', 'Lebanon', 'Malaysia', 'Mexico', 'Morocco',\n",
       "       'Nigeria', 'North Macedonia', 'Oman', 'Pakistan', 'Peru',\n",
       "       'Philippines', 'Romania', 'Russian Federation', 'Saudi Arabia',\n",
       "       'Senegal', 'Serbia', 'Slovakia', 'Slovenia', 'South Africa',\n",
       "       'South Korea', 'Syria', 'Taiwan', 'Thailand', 'Tunisia', 'Turkey',\n",
       "       'Ukraine', 'United Arab Emirates', 'United Kingdom', 'Usa',\n",
       "       'Vietnam', 'Angola', 'Belgium', 'Burkina Faso', 'Burundi',\n",
       "       'Cameroon', 'Congo (democratic Republic)', \"Cote D'ivoire\",\n",
       "       'France', 'Greece', 'Hungary', 'Italy', 'Jamaica', 'Netherlands',\n",
       "       'Panama', 'Poland', 'Portugal', 'Qatar', 'Rwanda', 'Singapore',\n",
       "       'Spain', 'Switzerland', 'Tanzania', 'Uganda', 'Afghanistan',\n",
       "       'Armenia', 'Austria', 'Belarus', 'Georgia', 'Ghana', 'Iraq',\n",
       "       'Moldova', 'Mongolia', 'Uzbekistan', 'Zambia', 'Bangladesh',\n",
       "       'Denmark', 'Finland', 'Iceland', 'Latvia', 'Mali', 'Norway',\n",
       "       'Sweden', 'Kosovo', 'Lithuania', 'Mozambique', 'Namibia', 'Nepal',\n",
       "       'Bahrain', 'Benin', 'Bolivia', 'Cambodia',\n",
       "       'Central African Republic', 'Chad', 'Comoros',\n",
       "       'Congo (brazzaville)', 'Djibouti', 'Dominican Republic', 'Ecuador',\n",
       "       'Equatorial Guinea', 'Gabon', 'Guatemala', 'Guinea', 'Haiti',\n",
       "       'Laos', 'Madagascar', 'Malta', 'Mauritania', 'Mauritius',\n",
       "       'Myanmar', 'New Zealand', 'Niger', 'Saint Lucia', 'Sri Lanka',\n",
       "       'Sudan', 'Suriname', 'Togo', 'Uruguay', 'Zimbabwe', 'Botswana',\n",
       "       'Costa Rica', 'Czech Republic', 'El Salvador', 'Estonia',\n",
       "       'Honduras', 'Kyrgyzstan', 'Montenegro', 'Nicaragua',\n",
       "       'Palestinian Authority', 'Paraguay', 'Tajikistan',\n",
       "       'Trinidad and Tobago', 'Turkmenistan', 'Venezuela', 'Eritrea',\n",
       "       'Holy See (vatican City State)', 'Libya', 'San Marino',\n",
       "       'Luxembourg', 'Cape Verde', 'Guinea-bissau', 'Macao S.a.r.',\n",
       "       'Sao Tome and Principe', 'Timor-leste', 'Andorra', 'Liberia',\n",
       "       'Former Yugoslav Republic of Macedonia', 'North Korea', 'Fiji',\n",
       "       'Monaco', 'Seychelles', 'South Sudan', 'Vanuatu', 'Holy See',\n",
       "       'Bhutan', 'Malawi', 'Yemen', 'Brunei', 'Papua New Guinea',\n",
       "       'Iran, Islamic Republic of',\n",
       "       'Congo, The Democratic Republic of The', 'Libyan Arab Jamahiriya',\n",
       "       'Viet Nam', 'Congo', 'Moldova, Republic of', 'Palestine',\n",
       "       'Tanzania, United Republic of', \"Lao People's Democratic Republic\",\n",
       "       'Macao', 'Korea, Republic of', 'Taiwan, Province of China',\n",
       "       'Syrian Arab Republic', \"Korea, Democratic People's Republic of\",\n",
       "       'Puerto Rico', 'Palestine (occupied Territory Of)', 'Bermuda',\n",
       "       'Brunei Darussalam', 'Macedonia, The Former Yugoslav Republic of',\n",
       "       'Hong Kong', 'United States'], dtype=object)"
      ]
     },
     "execution_count": 34,
     "metadata": {},
     "output_type": "execute_result"
    }
   ],
   "source": [
    "df['app_country'].unique()"
   ]
  },
  {
   "cell_type": "markdown",
   "id": "9867d40d-f70b-406c-a009-2ceac07bd0e9",
   "metadata": {},
   "source": [
    "In different files, same countries have different names. I cannot automatically standardise them because countries like Congos and Koreas share very similar names. Instead I'll do it manually:"
   ]
  },
  {
   "cell_type": "code",
   "execution_count": 35,
   "id": "624f1212-679c-4f4c-b1a4-818bc88c9e80",
   "metadata": {},
   "outputs": [],
   "source": [
    "country_map = {'Iran, Islamic Republic of': 'Iran',\n",
    "               'Congo, The Democratic Republic of The': 'Congo DR',\n",
    "               'Congo (democratic Republic)': 'Congo DR',\n",
    "               'Congo': 'Congo-Brazzaville',\n",
    "               'Congo (brazzaville)': 'Congo-Brazzaville',\n",
    "               'Moldova, Republic of': 'Moldova',\n",
    "               'Libyan Arab Jamahiriya': 'Libya',\n",
    "               'Taiwan, Province of China': 'Taiwan',\n",
    "               'Macao S.a.r.': 'Macao',\n",
    "               'Holy See (vatican City State)': 'Holy See',\n",
    "               'Palestinian Authority': 'Palestine',\n",
    "               'Former Yugoslav Republic of Macedonia': 'North Macedonia',\n",
    "               \"Macedonia, The Former Yugoslav Republic of\": \"North Macedonia\",\n",
    "               \"Korea, Democratic People's Republic of\": 'North Korea',\n",
    "               'Korea, Republic of': 'South Korea',\n",
    "               \"Lao People's Democratic Republic\": 'Laos',\n",
    "               \"Hong Kong S.a.r.\": 'Hong Kong',\n",
    "               'Tanzania, United Republic of': 'Tanzania',\n",
    "               'Usa': 'United States',\n",
    "               'Guinea-bissau': 'Guinea-Bissau',\n",
    "               \"Palestine (occupied Territory Of)\": \"Palestine\",\n",
    "                \"Brunei Darussalam\": \"Brunei\",\n",
    "                  \"Syrian Arab Republic\": 'Syria',\n",
    "              \"Russian Federation\": 'Russia',\n",
    "              \"Cote D\\'ivoire\" :\"Cote D'ivoire\"}\n",
    "\n",
    "df['app_country'] = df['app_country'].replace(country_map)"
   ]
  },
  {
   "cell_type": "code",
   "execution_count": 36,
   "id": "37288dd3-5ed6-4562-980b-d58758cd4500",
   "metadata": {},
   "outputs": [
    {
     "data": {
      "text/plain": [
       "array(['Albania', 'Algeria', 'Argentina', 'Australia', 'Azerbaijan',\n",
       "       'Bosnia and Herzegovina', 'Brazil', 'Bulgaria', 'Canada', 'Chile',\n",
       "       'China', 'Colombia', 'Croatia', 'Cuba', 'Cyprus', 'Egypt',\n",
       "       'Ethiopia', 'Germany', 'Hong Kong', 'India', 'Indonesia', 'Iran',\n",
       "       'Ireland', 'Israel', 'Japan', 'Jordan', 'Kazakhstan', 'Kenya',\n",
       "       'Kuwait', 'Lebanon', 'Malaysia', 'Mexico', 'Morocco', 'Nigeria',\n",
       "       'North Macedonia', 'Oman', 'Pakistan', 'Peru', 'Philippines',\n",
       "       'Romania', 'Russia', 'Saudi Arabia', 'Senegal', 'Serbia',\n",
       "       'Slovakia', 'Slovenia', 'South Africa', 'South Korea', 'Syria',\n",
       "       'Taiwan', 'Thailand', 'Tunisia', 'Turkey', 'Ukraine',\n",
       "       'United Arab Emirates', 'United Kingdom', 'United States',\n",
       "       'Vietnam', 'Angola', 'Belgium', 'Burkina Faso', 'Burundi',\n",
       "       'Cameroon', 'Congo DR', \"Cote D'ivoire\", 'France', 'Greece',\n",
       "       'Hungary', 'Italy', 'Jamaica', 'Netherlands', 'Panama', 'Poland',\n",
       "       'Portugal', 'Qatar', 'Rwanda', 'Singapore', 'Spain', 'Switzerland',\n",
       "       'Tanzania', 'Uganda', 'Afghanistan', 'Armenia', 'Austria',\n",
       "       'Belarus', 'Georgia', 'Ghana', 'Iraq', 'Moldova', 'Mongolia',\n",
       "       'Uzbekistan', 'Zambia', 'Bangladesh', 'Denmark', 'Finland',\n",
       "       'Iceland', 'Latvia', 'Mali', 'Norway', 'Sweden', 'Kosovo',\n",
       "       'Lithuania', 'Mozambique', 'Namibia', 'Nepal', 'Bahrain', 'Benin',\n",
       "       'Bolivia', 'Cambodia', 'Central African Republic', 'Chad',\n",
       "       'Comoros', 'Congo-Brazzaville', 'Djibouti', 'Dominican Republic',\n",
       "       'Ecuador', 'Equatorial Guinea', 'Gabon', 'Guatemala', 'Guinea',\n",
       "       'Haiti', 'Laos', 'Madagascar', 'Malta', 'Mauritania', 'Mauritius',\n",
       "       'Myanmar', 'New Zealand', 'Niger', 'Saint Lucia', 'Sri Lanka',\n",
       "       'Sudan', 'Suriname', 'Togo', 'Uruguay', 'Zimbabwe', 'Botswana',\n",
       "       'Costa Rica', 'Czech Republic', 'El Salvador', 'Estonia',\n",
       "       'Honduras', 'Kyrgyzstan', 'Montenegro', 'Nicaragua', 'Palestine',\n",
       "       'Paraguay', 'Tajikistan', 'Trinidad and Tobago', 'Turkmenistan',\n",
       "       'Venezuela', 'Eritrea', 'Holy See', 'Libya', 'San Marino',\n",
       "       'Luxembourg', 'Cape Verde', 'Guinea-Bissau', 'Macao',\n",
       "       'Sao Tome and Principe', 'Timor-leste', 'Andorra', 'Liberia',\n",
       "       'North Korea', 'Fiji', 'Monaco', 'Seychelles', 'South Sudan',\n",
       "       'Vanuatu', 'Bhutan', 'Malawi', 'Yemen', 'Brunei',\n",
       "       'Papua New Guinea', 'Viet Nam', 'Puerto Rico', 'Bermuda'],\n",
       "      dtype=object)"
      ]
     },
     "execution_count": 36,
     "metadata": {},
     "output_type": "execute_result"
    }
   ],
   "source": [
    "df['app_country'].unique()"
   ]
  },
  {
   "cell_type": "markdown",
   "id": "5969e1b5-3033-4f7b-9476-ff836981d9ce",
   "metadata": {},
   "source": [
    "Liberia and Papua New Guinea has very low applications so I'll remove them"
   ]
  },
  {
   "cell_type": "code",
   "execution_count": 37,
   "id": "d8986e53-9211-4240-995c-2329749344ef",
   "metadata": {},
   "outputs": [],
   "source": [
    "df = df[~df['app_country'].isin(['Liberia', 'Papua New Guinea'])]"
   ]
  },
  {
   "cell_type": "markdown",
   "id": "3fd7d10b-fe74-42e6-8ca3-f44f16b8de41",
   "metadata": {},
   "source": [
    "The \"consulate\" column is not necessary, so I'll drop it without losing any relevant data:"
   ]
  },
  {
   "cell_type": "code",
   "execution_count": 38,
   "id": "1061192b-0ad6-41f0-9e19-b65901624571",
   "metadata": {},
   "outputs": [],
   "source": [
    "df = df.groupby(['app_country','schengen_state', 'year']).sum().reset_index()"
   ]
  },
  {
   "cell_type": "markdown",
   "id": "b3413430-63e5-4de2-9403-770d276f6727",
   "metadata": {},
   "source": [
    "I want to merg this dataset with other dataset for analysis. To make that easier, I assign alpha-2 codes to both Schengen states and application countries:"
   ]
  },
  {
   "cell_type": "code",
   "execution_count": 39,
   "id": "8f95c853-5efc-47c7-9b81-5d166ea69be6",
   "metadata": {},
   "outputs": [],
   "source": [
    "input_countries = df['schengen_state']\n",
    "\n",
    "countries = {}\n",
    "for country in pycountry.countries:\n",
    "    countries[country.name] = country.alpha_2\n",
    "\n",
    "codes = [countries.get(country, 'Unknown code') for country in input_countries]"
   ]
  },
  {
   "cell_type": "code",
   "execution_count": 40,
   "id": "e412622e-9664-42d3-9a89-053ef64a1b86",
   "metadata": {},
   "outputs": [
    {
     "data": {
      "text/plain": [
       "array(['CZ', 'DK', 'FR', 'DE', 'IT', 'NL', 'NO', 'PL', 'ES', 'SE', 'AT',\n",
       "       'BE', 'GR', 'HU', 'SI', 'CH', 'FI', 'MT', 'PT', 'LT', 'SK', 'EE',\n",
       "       'LV', 'LU', 'IS'], dtype=object)"
      ]
     },
     "execution_count": 40,
     "metadata": {},
     "output_type": "execute_result"
    }
   ],
   "source": [
    "df['code_schengen'] = codes\n",
    "df['code_schengen'].unique()"
   ]
  },
  {
   "cell_type": "code",
   "execution_count": 41,
   "id": "3c1e1724-d9e3-40cb-bfbf-abdc60a21a89",
   "metadata": {},
   "outputs": [],
   "source": [
    "input_countries = df['app_country']\n",
    "\n",
    "countries = {}\n",
    "for country in pycountry.countries:\n",
    "    countries[country.name] = country.alpha_2\n",
    "\n",
    "df['code_app'] = [countries.get(country, np.nan) for country in input_countries]"
   ]
  },
  {
   "cell_type": "code",
   "execution_count": 42,
   "id": "b8e65ced-18d7-4a41-b43c-9a640f8e7848",
   "metadata": {},
   "outputs": [
    {
     "data": {
      "text/plain": [
       "array(['Bolivia', 'Brunei', 'Cape Verde', 'Congo DR', 'Congo-Brazzaville',\n",
       "       \"Cote D'ivoire\", 'Czech Republic', 'Holy See', 'Iran', 'Kosovo',\n",
       "       'Laos', 'Moldova', 'North Korea', 'Palestine', 'Russia',\n",
       "       'South Korea', 'Syria', 'Taiwan', 'Tanzania', 'Timor-leste',\n",
       "       'Venezuela', 'Vietnam'], dtype=object)"
      ]
     },
     "execution_count": 42,
     "metadata": {},
     "output_type": "execute_result"
    }
   ],
   "source": [
    "df[df['code_app'].isna()]['app_country'].unique()"
   ]
  },
  {
   "cell_type": "markdown",
   "id": "5bf14127-4ad2-4432-acf4-4ae6570454c0",
   "metadata": {},
   "source": [
    "Pycountry could not match the alpha-2 codes of some countries. I should remove Vatican and add alpha-2 codes manually:"
   ]
  },
  {
   "cell_type": "code",
   "execution_count": 43,
   "id": "76511938-92bf-4ae2-b3df-1d09a8a5793e",
   "metadata": {},
   "outputs": [],
   "source": [
    "df.drop(df[df['app_country']=='Holy See'].index, inplace=True)"
   ]
  },
  {
   "cell_type": "code",
   "execution_count": 44,
   "id": "3a49c4da-cf71-433f-8de1-2b126b685876",
   "metadata": {},
   "outputs": [],
   "source": [
    "app_missing = {'Bolivia': 'BO',\n",
    "        'Brunei': 'BN',\n",
    "        'Cape Verde': 'CV',\n",
    "        'Congo DR': 'CD',\n",
    "        'Congo-Brazzaville': 'CG',\n",
    "        \"Cote D'ivoire\": 'CI',\n",
    "        'Czech Republic': 'CZ',\n",
    "        'Iran': 'IR',\n",
    "        'Kosovo': 'XK',\n",
    "        'Laos': 'LA',\n",
    "        'Moldova': 'MD',\n",
    "        'North Korea': 'KP',\n",
    "        'Palestine': 'PS',\n",
    "        'South Korea': 'KR',\n",
    "        'Syria': 'SY',\n",
    "        'Taiwan': 'TW',\n",
    "        'Tanzania': 'TZ',\n",
    "        'Timor-leste': 'TL',\n",
    "        'Venezuela': 'VE',\n",
    "        'Vietnam': 'VN',\n",
    "        \"Russia\": \"RU\"}\n",
    "\n",
    "codes_df = pd.DataFrame(list(app_missing.items()), columns=['app_country', 'code'])"
   ]
  },
  {
   "cell_type": "code",
   "execution_count": 45,
   "id": "5ffc244e-115f-455e-813e-60c41ae3929b",
   "metadata": {},
   "outputs": [],
   "source": [
    "merged_df = df.merge(codes_df, on='app_country', how='left')\n",
    "\n",
    "merged_df.loc[merged_df['code_app'].isna(), 'code_app'] = merged_df['code']\n",
    "\n",
    "df = merged_df.drop('code', axis=1)"
   ]
  },
  {
   "cell_type": "markdown",
   "id": "5c79e9cf-2c51-473f-ab50-e09798519e57",
   "metadata": {},
   "source": [
    "It is important to know citizens of which countries have visa-free access to the Schengen area. For that I'll create a dataframe and merge it with the main dataframe:"
   ]
  },
  {
   "cell_type": "code",
   "execution_count": 46,
   "id": "e72dce2f-689e-4e0d-9cb9-12e93987617f",
   "metadata": {
    "scrolled": true
   },
   "outputs": [
    {
     "name": "stdout",
     "output_type": "stream",
     "text": [
      "app_country - 0.0%\n",
      "schengen_state - 0.0%\n",
      "year - 0.0%\n",
      "app - 0.0%\n",
      "total_issued - 0.0%\n",
      "mev_issued - 0.0%\n",
      "ltv - 0.0%\n",
      "rejected - 0.0%\n",
      "code_schengen - 0.0%\n",
      "code_app - 0.0%\n"
     ]
    }
   ],
   "source": [
    "for col in df.columns:\n",
    "    pct_missing = (np.mean(df[col].isnull())*100)\n",
    "    print('{} - {}%'.format(col, pct_missing))"
   ]
  },
  {
   "cell_type": "markdown",
   "id": "8924b6ba-0112-4af8-9c89-2acaeac7601d",
   "metadata": {},
   "source": [
    "### Merging with Schengen Visa Requirement Information"
   ]
  },
  {
   "cell_type": "code",
   "execution_count": 47,
   "id": "2592ceea-31ae-4679-8754-e32907d28b30",
   "metadata": {},
   "outputs": [],
   "source": [
    "vfree = pd.read_csv(\".../visa_free2.csv\", delimiter=';')\n",
    "vfree['app_country']=vfree['app_country'].str.strip()"
   ]
  },
  {
   "cell_type": "code",
   "execution_count": 48,
   "id": "a9929916-05f1-416d-93a8-d079c16344d2",
   "metadata": {},
   "outputs": [],
   "source": [
    "input_countries = vfree['app_country']\n",
    "\n",
    "countries = {}\n",
    "for country in pycountry.countries:\n",
    "    countries[country.name] = country.alpha_2\n",
    "\n",
    "vfree['code_app'] = [countries.get(country, 'Unknown code') for country in input_countries]\n"
   ]
  },
  {
   "cell_type": "code",
   "execution_count": 49,
   "id": "18f52c59-5fd5-4e97-9433-7faa457400a1",
   "metadata": {},
   "outputs": [
    {
     "data": {
      "text/html": [
       "<div>\n",
       "<style scoped>\n",
       "    .dataframe tbody tr th:only-of-type {\n",
       "        vertical-align: middle;\n",
       "    }\n",
       "\n",
       "    .dataframe tbody tr th {\n",
       "        vertical-align: top;\n",
       "    }\n",
       "\n",
       "    .dataframe thead th {\n",
       "        text-align: right;\n",
       "    }\n",
       "</style>\n",
       "<table border=\"1\" class=\"dataframe\">\n",
       "  <thead>\n",
       "    <tr style=\"text-align: right;\">\n",
       "      <th></th>\n",
       "      <th>app_country</th>\n",
       "      <th>code_app</th>\n",
       "    </tr>\n",
       "  </thead>\n",
       "  <tbody>\n",
       "    <tr>\n",
       "      <th>9</th>\n",
       "      <td>Brunei</td>\n",
       "      <td>Unknown code</td>\n",
       "    </tr>\n",
       "    <tr>\n",
       "      <th>19</th>\n",
       "      <td>Holy See</td>\n",
       "      <td>Unknown code</td>\n",
       "    </tr>\n",
       "    <tr>\n",
       "      <th>30</th>\n",
       "      <td>Micronesia</td>\n",
       "      <td>Unknown code</td>\n",
       "    </tr>\n",
       "    <tr>\n",
       "      <th>31</th>\n",
       "      <td>Moldova</td>\n",
       "      <td>Unknown code</td>\n",
       "    </tr>\n",
       "    <tr>\n",
       "      <th>44</th>\n",
       "      <td>Saint Vincent</td>\n",
       "      <td>Unknown code</td>\n",
       "    </tr>\n",
       "    <tr>\n",
       "      <th>50</th>\n",
       "      <td>South Korea</td>\n",
       "      <td>Unknown code</td>\n",
       "    </tr>\n",
       "    <tr>\n",
       "      <th>51</th>\n",
       "      <td>Taiwan</td>\n",
       "      <td>Unknown code</td>\n",
       "    </tr>\n",
       "    <tr>\n",
       "      <th>52</th>\n",
       "      <td>Timor Leste</td>\n",
       "      <td>Unknown code</td>\n",
       "    </tr>\n",
       "    <tr>\n",
       "      <th>62</th>\n",
       "      <td>Venezuela</td>\n",
       "      <td>Unknown code</td>\n",
       "    </tr>\n",
       "    <tr>\n",
       "      <th>65</th>\n",
       "      <td>Czech Republic</td>\n",
       "      <td>Unknown code</td>\n",
       "    </tr>\n",
       "  </tbody>\n",
       "</table>\n",
       "</div>"
      ],
      "text/plain": [
       "       app_country      code_app\n",
       "9           Brunei  Unknown code\n",
       "19        Holy See  Unknown code\n",
       "30      Micronesia  Unknown code\n",
       "31         Moldova  Unknown code\n",
       "44   Saint Vincent  Unknown code\n",
       "50     South Korea  Unknown code\n",
       "51          Taiwan  Unknown code\n",
       "52     Timor Leste  Unknown code\n",
       "62       Venezuela  Unknown code\n",
       "65  Czech Republic  Unknown code"
      ]
     },
     "execution_count": 49,
     "metadata": {},
     "output_type": "execute_result"
    }
   ],
   "source": [
    "vfree[vfree['code_app']=='Unknown code'].drop(['visa_free'], axis=1)"
   ]
  },
  {
   "cell_type": "code",
   "execution_count": 50,
   "id": "db6249d5-d814-46d9-b1ad-114be0b886d1",
   "metadata": {},
   "outputs": [],
   "source": [
    "countries_dict = {\n",
    "    'Brunei': 'BN',\n",
    "    'Holy See': 'VA',\n",
    "    'Micronesia': 'FM',\n",
    "    'Moldova': 'MD',\n",
    "    'Saint Vincent': 'VC',\n",
    "    'South Korea': 'KR',\n",
    "    'Taiwan': 'TW',\n",
    "    'Timor Leste': 'TL',\n",
    "    'Venezuela': 'VE',\n",
    "    'Czech Republic': 'CZ'\n",
    "}\n",
    "vfree['code_app'] = vfree['code_app'].replace(countries_dict)"
   ]
  },
  {
   "cell_type": "code",
   "execution_count": 51,
   "id": "0ba00258-ea6f-4e85-8f9e-dfe0d07a6ece",
   "metadata": {},
   "outputs": [],
   "source": [
    "vfree = vfree.drop('app_country', axis=1)"
   ]
  },
  {
   "cell_type": "code",
   "execution_count": 52,
   "id": "5d93fab8-c775-456c-ac33-9cc3aa973033",
   "metadata": {},
   "outputs": [
    {
     "data": {
      "text/plain": [
       "array(['AL', 'AD', 'AG', 'AR', 'AU', 'BS', 'BB', 'BA', 'BR',\n",
       "       'Unknown code', 'CA', 'CL', 'CO', 'CR', 'DM', 'SV', 'GE', 'GD',\n",
       "       'GT', 'HN', 'HK', 'IL', 'JP', 'KI', 'MO', 'MY', 'MH', 'MU', 'MX',\n",
       "       'MC', 'ME', 'NR', 'NZ', 'NI', 'MK', 'PW', 'PA', 'PY', 'PE', 'KN',\n",
       "       'LC', 'WS', 'RS', 'SC', 'SG', 'SB', 'TO', 'TT', 'TV', 'UA', 'AE',\n",
       "       'GB', 'US', 'UY', 'VU', 'AT', 'BE', 'DK', 'EE', 'FI', 'FR', 'DE',\n",
       "       'HU', 'IS', 'IT', 'LV', 'LI', 'LT', 'LU', 'MT', 'NO', 'PL', 'PT',\n",
       "       'SK', 'SI', 'ES', 'SE', 'CH', 'NL', 'PR', 'BG', 'RO', 'HR', 'GR',\n",
       "       'IE', 'SM'], dtype=object)"
      ]
     },
     "execution_count": 52,
     "metadata": {},
     "output_type": "execute_result"
    }
   ],
   "source": [
    "vfree['code_app'].unique()"
   ]
  },
  {
   "cell_type": "code",
   "execution_count": 53,
   "id": "e36abdf1-2967-444e-8447-a8898e8c5e11",
   "metadata": {},
   "outputs": [],
   "source": [
    "df = pd.merge(df, vfree, how='left', on='code_app')"
   ]
  },
  {
   "cell_type": "markdown",
   "id": "3d6fd616-6282-4d92-9141-7d88c51d0d92",
   "metadata": {},
   "source": [
    "I simply assign the na values in the column that indicates the visa status as \"false\":"
   ]
  },
  {
   "cell_type": "code",
   "execution_count": 54,
   "id": "cd2c65cc-ae54-4e76-b02e-8db783c15791",
   "metadata": {},
   "outputs": [],
   "source": [
    "df['visa_free'] = df['visa_free'].fillna(False)"
   ]
  },
  {
   "cell_type": "code",
   "execution_count": 55,
   "id": "e4d5532f-e87c-4d44-8f78-1e10d9bbf514",
   "metadata": {},
   "outputs": [
    {
     "data": {
      "text/html": [
       "<div>\n",
       "<style scoped>\n",
       "    .dataframe tbody tr th:only-of-type {\n",
       "        vertical-align: middle;\n",
       "    }\n",
       "\n",
       "    .dataframe tbody tr th {\n",
       "        vertical-align: top;\n",
       "    }\n",
       "\n",
       "    .dataframe thead th {\n",
       "        text-align: right;\n",
       "    }\n",
       "</style>\n",
       "<table border=\"1\" class=\"dataframe\">\n",
       "  <thead>\n",
       "    <tr style=\"text-align: right;\">\n",
       "      <th></th>\n",
       "      <th>app_country</th>\n",
       "      <th>schengen_state</th>\n",
       "      <th>year</th>\n",
       "      <th>app</th>\n",
       "      <th>total_issued</th>\n",
       "      <th>mev_issued</th>\n",
       "      <th>ltv</th>\n",
       "      <th>rejected</th>\n",
       "      <th>code_schengen</th>\n",
       "      <th>code_app</th>\n",
       "      <th>visa_free</th>\n",
       "    </tr>\n",
       "  </thead>\n",
       "  <tbody>\n",
       "    <tr>\n",
       "      <th>0</th>\n",
       "      <td>Afghanistan</td>\n",
       "      <td>Czechia</td>\n",
       "      <td>2015</td>\n",
       "      <td>56.0</td>\n",
       "      <td>20.0</td>\n",
       "      <td>1.0</td>\n",
       "      <td>36.0</td>\n",
       "      <td>0.0</td>\n",
       "      <td>CZ</td>\n",
       "      <td>AF</td>\n",
       "      <td>False</td>\n",
       "    </tr>\n",
       "    <tr>\n",
       "      <th>1</th>\n",
       "      <td>Afghanistan</td>\n",
       "      <td>Czechia</td>\n",
       "      <td>2016</td>\n",
       "      <td>32.0</td>\n",
       "      <td>25.0</td>\n",
       "      <td>2.0</td>\n",
       "      <td>6.0</td>\n",
       "      <td>0.0</td>\n",
       "      <td>CZ</td>\n",
       "      <td>AF</td>\n",
       "      <td>False</td>\n",
       "    </tr>\n",
       "    <tr>\n",
       "      <th>2</th>\n",
       "      <td>Afghanistan</td>\n",
       "      <td>Czechia</td>\n",
       "      <td>2017</td>\n",
       "      <td>41.0</td>\n",
       "      <td>33.0</td>\n",
       "      <td>10.0</td>\n",
       "      <td>3.0</td>\n",
       "      <td>5.0</td>\n",
       "      <td>CZ</td>\n",
       "      <td>AF</td>\n",
       "      <td>False</td>\n",
       "    </tr>\n",
       "    <tr>\n",
       "      <th>3</th>\n",
       "      <td>Afghanistan</td>\n",
       "      <td>Czechia</td>\n",
       "      <td>2018</td>\n",
       "      <td>108.0</td>\n",
       "      <td>64.0</td>\n",
       "      <td>26.0</td>\n",
       "      <td>41.0</td>\n",
       "      <td>1.0</td>\n",
       "      <td>CZ</td>\n",
       "      <td>AF</td>\n",
       "      <td>False</td>\n",
       "    </tr>\n",
       "    <tr>\n",
       "      <th>4</th>\n",
       "      <td>Afghanistan</td>\n",
       "      <td>Czechia</td>\n",
       "      <td>2019</td>\n",
       "      <td>94.0</td>\n",
       "      <td>88.0</td>\n",
       "      <td>23.0</td>\n",
       "      <td>4.0</td>\n",
       "      <td>2.0</td>\n",
       "      <td>CZ</td>\n",
       "      <td>AF</td>\n",
       "      <td>False</td>\n",
       "    </tr>\n",
       "  </tbody>\n",
       "</table>\n",
       "</div>"
      ],
      "text/plain": [
       "   app_country schengen_state  year    app  total_issued  mev_issued   ltv  \\\n",
       "0  Afghanistan        Czechia  2015   56.0          20.0         1.0  36.0   \n",
       "1  Afghanistan        Czechia  2016   32.0          25.0         2.0   6.0   \n",
       "2  Afghanistan        Czechia  2017   41.0          33.0        10.0   3.0   \n",
       "3  Afghanistan        Czechia  2018  108.0          64.0        26.0  41.0   \n",
       "4  Afghanistan        Czechia  2019   94.0          88.0        23.0   4.0   \n",
       "\n",
       "   rejected code_schengen code_app  visa_free  \n",
       "0       0.0            CZ       AF      False  \n",
       "1       0.0            CZ       AF      False  \n",
       "2       5.0            CZ       AF      False  \n",
       "3       1.0            CZ       AF      False  \n",
       "4       2.0            CZ       AF      False  "
      ]
     },
     "execution_count": 55,
     "metadata": {},
     "output_type": "execute_result"
    }
   ],
   "source": [
    "df.head()"
   ]
  },
  {
   "cell_type": "code",
   "execution_count": 56,
   "id": "e7a14e03-0352-4441-848f-5cfb43b3d8cb",
   "metadata": {
    "scrolled": true
   },
   "outputs": [
    {
     "name": "stdout",
     "output_type": "stream",
     "text": [
      "app_country - 0.0%\n",
      "schengen_state - 0.0%\n",
      "year - 0.0%\n",
      "app - 0.0%\n",
      "total_issued - 0.0%\n",
      "mev_issued - 0.0%\n",
      "ltv - 0.0%\n",
      "rejected - 0.0%\n",
      "code_schengen - 0.0%\n",
      "code_app - 0.0%\n",
      "visa_free - 0.0%\n"
     ]
    }
   ],
   "source": [
    "for col in df.columns:\n",
    "    pct_missing = (np.mean(df[col].isnull())*100)\n",
    "    print('{} - {}%'.format(col, pct_missing))"
   ]
  },
  {
   "cell_type": "markdown",
   "id": "ded9ebe1-08f6-4615-87e8-d22b8d5e6182",
   "metadata": {},
   "source": [
    "### Merging with Asylum Data"
   ]
  },
  {
   "cell_type": "markdown",
   "id": "38548fe6-5668-4c28-acb7-73f3f4d9b39c",
   "metadata": {},
   "source": [
    "The asylum applications submitted in Europe is an important variable. Therefore, I downloaded the relevant dataframe from Eurostat and cleaned it according to my analysis requirements."
   ]
  },
  {
   "cell_type": "code",
   "execution_count": 57,
   "id": "accff041-9add-4543-94ea-26cb91170997",
   "metadata": {},
   "outputs": [],
   "source": [
    "asyl = pd.read_csv('.../migr_asyappctza_linear.csv')"
   ]
  },
  {
   "cell_type": "code",
   "execution_count": 58,
   "id": "e4ac081c-da56-46c2-98f5-04c21f218395",
   "metadata": {},
   "outputs": [],
   "source": [
    "asyl_orig = asyl.copy()"
   ]
  },
  {
   "cell_type": "markdown",
   "id": "419b46fc-6e20-4cf1-b37a-676af803eabe",
   "metadata": {},
   "source": [
    "I select the relevant columns and dropp the rest:"
   ]
  },
  {
   "cell_type": "code",
   "execution_count": 59,
   "id": "143e2d22-f969-4dc4-914a-79baf7df7c01",
   "metadata": {},
   "outputs": [],
   "source": [
    "asyl = asyl[['citizen', 'sex', 'age', 'asyl_app', 'geo', 'TIME_PERIOD', 'OBS_VALUE']]"
   ]
  },
  {
   "cell_type": "markdown",
   "id": "1fb19e63-e436-4687-bf79-0fbf0c6fdc08",
   "metadata": {},
   "source": [
    "Checking and dropping na values:"
   ]
  },
  {
   "cell_type": "code",
   "execution_count": 60,
   "id": "975f114b-eea8-4665-8a55-35698fa4f7a2",
   "metadata": {
    "scrolled": true
   },
   "outputs": [
    {
     "name": "stdout",
     "output_type": "stream",
     "text": [
      "citizen - 0.483307905330455%\n",
      "sex - 0.0%\n",
      "age - 0.0%\n",
      "asyl_app - 0.0%\n",
      "geo - 0.0%\n",
      "TIME_PERIOD - 0.0%\n",
      "OBS_VALUE - 0.0%\n"
     ]
    }
   ],
   "source": [
    "for col in asyl.columns:\n",
    "    pct_missing = (np.mean(asyl[col].isnull())*100)\n",
    "    print('{} - {}%'.format(col, pct_missing))"
   ]
  },
  {
   "cell_type": "code",
   "execution_count": 61,
   "id": "60351fdd-050b-4678-82c8-15c9e0575308",
   "metadata": {},
   "outputs": [],
   "source": [
    "asyl = asyl.dropna()"
   ]
  },
  {
   "cell_type": "code",
   "execution_count": 62,
   "id": "8825967d-219f-43f4-8de4-21f6d1dea82f",
   "metadata": {},
   "outputs": [
    {
     "name": "stdout",
     "output_type": "stream",
     "text": [
      "citizen - ['AD' 'AE' 'AF' 'AG' 'AL' 'AM' 'AO' 'AR' 'AT' 'AU' 'AZ' 'BA' 'BB' 'BD'\n",
      " 'BE' 'BF' 'BG' 'BH' 'BI' 'BJ' 'BN' 'BO' 'BR' 'BS' 'BT' 'BW' 'BY' 'BZ'\n",
      " 'CA' 'CD' 'CF' 'CG' 'CH' 'CI' 'CK' 'CL' 'CM' 'CN' 'CO' 'CR' 'CU' 'CV'\n",
      " 'CY' 'CZ' 'DE' 'DJ' 'DK' 'DM' 'DO' 'DZ' 'EC' 'EE' 'EG' 'EH' 'EL' 'ER'\n",
      " 'ES' 'ET' 'EU27_2020' 'EU28' 'EXT_EU27_2020' 'EXT_EU28' 'FI' 'FJ' 'FM'\n",
      " 'FR' 'GA' 'GD' 'GE' 'GH' 'GM' 'GN' 'GQ' 'GT' 'GW' 'GY' 'HN' 'HR' 'HT'\n",
      " 'HU' 'ID' 'IE' 'IL' 'IN' 'IQ' 'IR' 'IS' 'IT' 'JM' 'JO' 'JP' 'KE' 'KG'\n",
      " 'KH' 'KI' 'KM' 'KN' 'KP' 'KR' 'KW' 'KZ' 'LA' 'LB' 'LC' 'LI' 'LK' 'LR'\n",
      " 'LS' 'LT' 'LU' 'LV' 'LY' 'MA' 'MC' 'MD' 'ME' 'MG' 'MH' 'MK' 'ML' 'MM'\n",
      " 'MN' 'MR' 'MT' 'MU' 'MV' 'MW' 'MX' 'MY' 'MZ' 'NE' 'NG' 'NI' 'NL' 'NO'\n",
      " 'NP' 'NR' 'NZ' 'OM' 'PA' 'PE' 'PG' 'PH' 'PK' 'PL' 'PS' 'PT' 'PW' 'PY'\n",
      " 'QA' 'RNC' 'RO' 'RS' 'RU' 'RW' 'SA' 'SB' 'SC' 'SD' 'SE' 'SG' 'SI' 'SK'\n",
      " 'SL' 'SM' 'SN' 'SO' 'SR' 'SS' 'ST' 'STLS' 'SV' 'SY' 'SZ' 'TD' 'TG' 'TH'\n",
      " 'TJ' 'TL' 'TM' 'TN' 'TO' 'TOTAL' 'TR' 'TT' 'TV' 'TW' 'TZ' 'UA' 'UG' 'UK'\n",
      " 'UK_OCT' 'UNK' 'US' 'UY' 'UZ' 'VA' 'VC' 'VE' 'VN' 'VU' 'WS' 'XK' 'YE'\n",
      " 'ZA' 'ZM' 'ZW']\n",
      "sex - ['F' 'M' 'T' 'UNK']\n",
      "age - ['TOTAL' 'UNK' 'Y14-17' 'Y18-34' 'Y35-64' 'Y_GE65' 'Y_LT14' 'Y_LT18']\n",
      "asyl_app - ['ASY_APP' 'NASY_APP' 'SSEQ']\n",
      "geo - ['AT' 'BE' 'BG' 'CH' 'CY' 'CZ' 'DE' 'DK' 'EE' 'EL' 'ES' 'EU27_2020' 'FI'\n",
      " 'FR' 'HR' 'HU' 'IE' 'IS' 'IT' 'LI' 'LT' 'LU' 'LV' 'ME' 'MT' 'NL' 'NO'\n",
      " 'PL' 'PT' 'RO' 'SE' 'SI' 'SK' 'UK']\n"
     ]
    }
   ],
   "source": [
    "for col in asyl.select_dtypes(include=['object']).columns:\n",
    "    print(f'{col} - {asyl[col].unique()}')"
   ]
  },
  {
   "cell_type": "markdown",
   "id": "8488120f-a2e5-401e-8880-c6a1717e8ff2",
   "metadata": {},
   "source": [
    "Eurostat refers to Greece as EL. This is a problem because nobody else uses that. So I replaced it with \"GR\", which is more common:"
   ]
  },
  {
   "cell_type": "code",
   "execution_count": 63,
   "id": "736ed761-9a66-4936-b421-c6f10b762c51",
   "metadata": {},
   "outputs": [],
   "source": [
    "asyl.replace('EL', 'GR', inplace=True)"
   ]
  },
  {
   "cell_type": "code",
   "execution_count": 64,
   "id": "c990a94c-4168-4030-b983-7be229bb316a",
   "metadata": {
    "scrolled": true
   },
   "outputs": [],
   "source": [
    "asyl = asyl[asyl['sex']=='T'] #all sexes\n",
    "asyl = asyl[asyl['age']=='TOTAL'] #all ages\n",
    "asyl = asyl[asyl['asyl_app']=='NASY_APP'] # first time applicants\n",
    "asyl = asyl.drop(asyl[asyl.geo=='EU27_2020'].index) # we do not need aggreated data\n",
    "asyl = asyl[~asyl['citizen'].str.contains('EU')]"
   ]
  },
  {
   "cell_type": "markdown",
   "id": "d768f12c-1e42-4ca0-b681-a4ebb9e56ee3",
   "metadata": {},
   "source": [
    "To filter the migration and asylum application dataset and remove unnecessary data, I created several new DataFrames using pandas.\n",
    "\n",
    "First, I selected all sexes in the dataset by filtering the 'sex' column to only include rows where 'sex' equals 'T' (for 'total'). Next, I selected all ages in the dataset by filtering the 'age' column to only include rows where 'age' equals 'TOTAL'. Then, I selected only first-time applicants in the dataset by filtering the 'asyl_app' column to only include rows where 'asyl_app' equals 'NASY_APP'. I then dropped rows where the 'geo' column contains 'EU27_2020' since this data is not required. Lastly, I removed rows where the 'citizen' column contains 'EU' using the .str.contains() method with a negation operator (~) to exclude rows that contain the specified text. This filtering process helps to refine the dataset and ensure that only relevant data is used for the analysis."
   ]
  },
  {
   "cell_type": "markdown",
   "id": "1451e3ec-7b17-4b64-9d85-7978c5196ed2",
   "metadata": {},
   "source": [
    "Choosing the relevant columns and renaming them:"
   ]
  },
  {
   "cell_type": "code",
   "execution_count": 65,
   "id": "f46ddd6d-2fc4-4c5b-b2e6-663bfb199209",
   "metadata": {},
   "outputs": [],
   "source": [
    "asyl = asyl[['citizen', 'geo', 'TIME_PERIOD', 'OBS_VALUE']]\n",
    "asyl = asyl.rename(columns={'citizen':'code_app', 'geo':'code_schengen', \n",
    "                            'TIME_PERIOD':'year', 'OBS_VALUE':'asyl_app'})"
   ]
  },
  {
   "cell_type": "markdown",
   "id": "7f498752-c876-4198-911e-ecda45978c26",
   "metadata": {},
   "source": [
    "Merging with the main dataframe"
   ]
  },
  {
   "cell_type": "code",
   "execution_count": 66,
   "id": "a06d06ea-170a-480a-92ff-a0addd326804",
   "metadata": {},
   "outputs": [],
   "source": [
    "df = pd.merge(df, asyl, on=['code_app', 'code_schengen', 'year'], how='left')"
   ]
  },
  {
   "cell_type": "code",
   "execution_count": 67,
   "id": "5ef0afa6-554a-4972-8499-5924455a25ee",
   "metadata": {
    "scrolled": true
   },
   "outputs": [
    {
     "name": "stdout",
     "output_type": "stream",
     "text": [
      "app_country - 0.0%\n",
      "schengen_state - 0.0%\n",
      "year - 0.0%\n",
      "app - 0.0%\n",
      "total_issued - 0.0%\n",
      "mev_issued - 0.0%\n",
      "ltv - 0.0%\n",
      "rejected - 0.0%\n",
      "code_schengen - 0.0%\n",
      "code_app - 0.0%\n",
      "visa_free - 0.0%\n",
      "asyl_app - 9.613665706624293%\n"
     ]
    }
   ],
   "source": [
    "for col in df.columns:\n",
    "    pct_missing = (np.mean(df[col].isnull())*100)\n",
    "    print('{} - {}%'.format(col, pct_missing))"
   ]
  },
  {
   "cell_type": "markdown",
   "id": "0ed3201a-4e0d-450d-8f54-368827de14a7",
   "metadata": {},
   "source": [
    "About 10 per cent of the entries of asylum are null, which means that there was no asylum application in that particular applicant nationality, schengen country, and year. I'll replace them with zero."
   ]
  },
  {
   "cell_type": "code",
   "execution_count": 68,
   "id": "626adb9a-25fb-492a-afbf-e85ae39b2e72",
   "metadata": {},
   "outputs": [],
   "source": [
    "df = df.fillna(0)"
   ]
  },
  {
   "cell_type": "markdown",
   "id": "31594bb7-6146-4b78-b980-66608bad367e",
   "metadata": {},
   "source": [
    "There are also very low  values. I'll remove them:"
   ]
  },
  {
   "cell_type": "code",
   "execution_count": 69,
   "id": "109b8079-0c03-4dd4-a997-d96acdd3061e",
   "metadata": {},
   "outputs": [],
   "source": [
    "df = df[df['total_issued']>0]"
   ]
  },
  {
   "cell_type": "markdown",
   "id": "0d187b76-6033-4d8e-9e12-b0ced9b73045",
   "metadata": {},
   "source": [
    "The entries without no applications are not relevant to this analysis, so I should just drop them:"
   ]
  },
  {
   "cell_type": "code",
   "execution_count": 70,
   "id": "6423abec-ec82-455c-84e0-0aa8c7f4e4e3",
   "metadata": {},
   "outputs": [],
   "source": [
    "df = df[df['app']>0]"
   ]
  },
  {
   "cell_type": "markdown",
   "id": "8a4ca594-a166-4c36-a85c-f0b3460e486d",
   "metadata": {},
   "source": [
    "Creating our dependent variable rejection rate:"
   ]
  },
  {
   "cell_type": "code",
   "execution_count": 71,
   "id": "218fb216-87ab-4f2f-9d90-8a5ea8f6b558",
   "metadata": {},
   "outputs": [],
   "source": [
    "df['rejection_rate'] = (df['rejected']/df['app'])*100"
   ]
  },
  {
   "cell_type": "markdown",
   "id": "35adb5e3-2475-46a0-ba84-38369186296b",
   "metadata": {},
   "source": [
    "Saving the df to create a Tableau dashboard:"
   ]
  },
  {
   "cell_type": "code",
   "execution_count": 72,
   "id": "ced1d0c2-ee0f-4217-89d8-9cd2349b37d6",
   "metadata": {},
   "outputs": [],
   "source": [
    "df.to_csv('/Users/yusuftatli/Library/CloudStorage/GoogleDrive-a.yusuftatli@gmail.com/My Drive/Port_drive/visa/output/visa_clean_23032023.csv', index=False)"
   ]
  },
  {
   "cell_type": "markdown",
   "id": "e69db7d6-e932-44d9-abf0-835cbd9b7245",
   "metadata": {},
   "source": [
    "# Analysis"
   ]
  },
  {
   "cell_type": "markdown",
   "id": "5922dd41-7207-4266-b221-c74aafd36265",
   "metadata": {},
   "source": [
    "This dataframe contains visa applications for both visa-required and visa-free Schengen countries. I'll remove rows for visa-free countries to focus on relevant data for my research."
   ]
  },
  {
   "cell_type": "code",
   "execution_count": 73,
   "id": "20da9c6d-c7e9-450e-87bc-decfb47f151a",
   "metadata": {},
   "outputs": [],
   "source": [
    "df = df[df['visa_free']==False]\n",
    "df = df.drop(columns=['visa_free'])"
   ]
  },
  {
   "cell_type": "markdown",
   "id": "0eb04e36-02a5-47b0-bc97-f6b611b3ea63",
   "metadata": {},
   "source": [
    "There is a wide variance in almost all columns:"
   ]
  },
  {
   "cell_type": "code",
   "execution_count": 74,
   "id": "c037e1bc-ae32-4327-b2e8-6f4e45581924",
   "metadata": {},
   "outputs": [
    {
     "data": {
      "text/html": [
       "<div>\n",
       "<style scoped>\n",
       "    .dataframe tbody tr th:only-of-type {\n",
       "        vertical-align: middle;\n",
       "    }\n",
       "\n",
       "    .dataframe tbody tr th {\n",
       "        vertical-align: top;\n",
       "    }\n",
       "\n",
       "    .dataframe thead th {\n",
       "        text-align: right;\n",
       "    }\n",
       "</style>\n",
       "<table border=\"1\" class=\"dataframe\">\n",
       "  <thead>\n",
       "    <tr style=\"text-align: right;\">\n",
       "      <th></th>\n",
       "      <th>year</th>\n",
       "      <th>app</th>\n",
       "      <th>total_issued</th>\n",
       "      <th>mev_issued</th>\n",
       "      <th>ltv</th>\n",
       "      <th>rejected</th>\n",
       "      <th>asyl_app</th>\n",
       "      <th>rejection_rate</th>\n",
       "    </tr>\n",
       "  </thead>\n",
       "  <tbody>\n",
       "    <tr>\n",
       "      <th>count</th>\n",
       "      <td>10492.000000</td>\n",
       "      <td>1.049200e+04</td>\n",
       "      <td>1.049200e+04</td>\n",
       "      <td>1.049200e+04</td>\n",
       "      <td>10492.000000</td>\n",
       "      <td>10492.000000</td>\n",
       "      <td>10492.000000</td>\n",
       "      <td>10492.000000</td>\n",
       "    </tr>\n",
       "    <tr>\n",
       "      <th>mean</th>\n",
       "      <td>2014.860179</td>\n",
       "      <td>1.407533e+04</td>\n",
       "      <td>1.287409e+04</td>\n",
       "      <td>6.187056e+03</td>\n",
       "      <td>76.580538</td>\n",
       "      <td>1036.988086</td>\n",
       "      <td>330.142013</td>\n",
       "      <td>15.327888</td>\n",
       "    </tr>\n",
       "    <tr>\n",
       "      <th>std</th>\n",
       "      <td>3.743311</td>\n",
       "      <td>6.150709e+04</td>\n",
       "      <td>5.905428e+04</td>\n",
       "      <td>4.039329e+04</td>\n",
       "      <td>944.932078</td>\n",
       "      <td>5517.431569</td>\n",
       "      <td>2202.312168</td>\n",
       "      <td>15.664230</td>\n",
       "    </tr>\n",
       "    <tr>\n",
       "      <th>min</th>\n",
       "      <td>2009.000000</td>\n",
       "      <td>1.000000e+00</td>\n",
       "      <td>1.000000e+00</td>\n",
       "      <td>0.000000e+00</td>\n",
       "      <td>0.000000</td>\n",
       "      <td>0.000000</td>\n",
       "      <td>0.000000</td>\n",
       "      <td>0.000000</td>\n",
       "    </tr>\n",
       "    <tr>\n",
       "      <th>25%</th>\n",
       "      <td>2012.000000</td>\n",
       "      <td>5.507500e+02</td>\n",
       "      <td>3.850000e+02</td>\n",
       "      <td>4.000000e+01</td>\n",
       "      <td>0.000000</td>\n",
       "      <td>42.000000</td>\n",
       "      <td>0.000000</td>\n",
       "      <td>3.217019</td>\n",
       "    </tr>\n",
       "    <tr>\n",
       "      <th>50%</th>\n",
       "      <td>2015.000000</td>\n",
       "      <td>1.778500e+03</td>\n",
       "      <td>1.360500e+03</td>\n",
       "      <td>2.850000e+02</td>\n",
       "      <td>0.000000</td>\n",
       "      <td>190.000000</td>\n",
       "      <td>10.000000</td>\n",
       "      <td>10.146546</td>\n",
       "    </tr>\n",
       "    <tr>\n",
       "      <th>75%</th>\n",
       "      <td>2018.000000</td>\n",
       "      <td>6.249000e+03</td>\n",
       "      <td>5.184750e+03</td>\n",
       "      <td>1.498000e+03</td>\n",
       "      <td>8.000000</td>\n",
       "      <td>685.250000</td>\n",
       "      <td>95.000000</td>\n",
       "      <td>23.038191</td>\n",
       "    </tr>\n",
       "    <tr>\n",
       "      <th>max</th>\n",
       "      <td>2021.000000</td>\n",
       "      <td>1.501223e+06</td>\n",
       "      <td>1.489890e+06</td>\n",
       "      <td>1.398278e+06</td>\n",
       "      <td>35996.000000</td>\n",
       "      <td>265143.000000</td>\n",
       "      <td>127010.000000</td>\n",
       "      <td>108.333333</td>\n",
       "    </tr>\n",
       "  </tbody>\n",
       "</table>\n",
       "</div>"
      ],
      "text/plain": [
       "               year           app  total_issued    mev_issued           ltv  \\\n",
       "count  10492.000000  1.049200e+04  1.049200e+04  1.049200e+04  10492.000000   \n",
       "mean    2014.860179  1.407533e+04  1.287409e+04  6.187056e+03     76.580538   \n",
       "std        3.743311  6.150709e+04  5.905428e+04  4.039329e+04    944.932078   \n",
       "min     2009.000000  1.000000e+00  1.000000e+00  0.000000e+00      0.000000   \n",
       "25%     2012.000000  5.507500e+02  3.850000e+02  4.000000e+01      0.000000   \n",
       "50%     2015.000000  1.778500e+03  1.360500e+03  2.850000e+02      0.000000   \n",
       "75%     2018.000000  6.249000e+03  5.184750e+03  1.498000e+03      8.000000   \n",
       "max     2021.000000  1.501223e+06  1.489890e+06  1.398278e+06  35996.000000   \n",
       "\n",
       "            rejected       asyl_app  rejection_rate  \n",
       "count   10492.000000   10492.000000    10492.000000  \n",
       "mean     1036.988086     330.142013       15.327888  \n",
       "std      5517.431569    2202.312168       15.664230  \n",
       "min         0.000000       0.000000        0.000000  \n",
       "25%        42.000000       0.000000        3.217019  \n",
       "50%       190.000000      10.000000       10.146546  \n",
       "75%       685.250000      95.000000       23.038191  \n",
       "max    265143.000000  127010.000000      108.333333  "
      ]
     },
     "execution_count": 74,
     "metadata": {},
     "output_type": "execute_result"
    }
   ],
   "source": [
    "df.describe()"
   ]
  },
  {
   "cell_type": "markdown",
   "id": "270be901-f682-47d7-a788-bf305dc5eee7",
   "metadata": {},
   "source": [
    "Checking for distribution and outliers"
   ]
  },
  {
   "cell_type": "markdown",
   "id": "9c798a42-df42-4100-9a63-f66d25f1a764",
   "metadata": {},
   "source": [
    "sns.boxplot(x='asyl_app', data=df)"
   ]
  },
  {
   "cell_type": "code",
   "execution_count": 75,
   "id": "ce674b12-12c7-4c66-8acd-511e56dfc949",
   "metadata": {},
   "outputs": [
    {
     "data": {
      "image/png": "[encoded data removed]",
      "text/plain": [
       "<Figure size 432x288 with 1 Axes>"
      ]
     },
     "metadata": {
      "needs_background": "light"
     },
     "output_type": "display_data"
    }
   ],
   "source": [
    "p = sns.boxplot(x='rejection_rate', data=df)\n",
    "p.set_xlabel('Rejection Rate')\n",
    "plt.show()"
   ]
  },
  {
   "cell_type": "code",
   "execution_count": 76,
   "id": "bf8d1091-3dec-490b-a81b-cb51152d9ac9",
   "metadata": {},
   "outputs": [
    {
     "data": {
      "image/png": "[encoded data removed]",
      "text/plain": [
       "<Figure size 432x288 with 1 Axes>"
      ]
     },
     "metadata": {
      "needs_background": "light"
     },
     "output_type": "display_data"
    }
   ],
   "source": [
    "p = sns.boxplot(x='rejected', data=df)\n",
    "p.set_xlabel('Rejections')\n",
    "plt.show()"
   ]
  },
  {
   "cell_type": "code",
   "execution_count": 77,
   "id": "b0ff4d36-718f-4117-8a11-283ed509a3fb",
   "metadata": {},
   "outputs": [
    {
     "data": {
      "image/png": "[encoded data removed]",
      "text/plain": [
       "<Figure size 432x288 with 1 Axes>"
      ]
     },
     "metadata": {
      "needs_background": "light"
     },
     "output_type": "display_data"
    }
   ],
   "source": [
    "p = sns.boxplot(x='app', data=df)\n",
    "p.set_xlabel('Schengen Visa Applications')\n",
    "plt.show()"
   ]
  },
  {
   "cell_type": "code",
   "execution_count": 79,
   "id": "29e6dc35-1a74-431f-b37c-6b2e6d22583a",
   "metadata": {},
   "outputs": [
    {
     "data": {
      "image/png": "[encoded data removed]",
      "text/plain": [
       "<Figure size 432x288 with 1 Axes>"
      ]
     },
     "metadata": {
      "needs_background": "light"
     },
     "output_type": "display_data"
    }
   ],
   "source": [
    "sns.boxplot(x='asyl_app', data=df)\n",
    "p.set_xlabel('Asylum Applications')\n",
    "plt.show()"
   ]
  },
  {
   "cell_type": "markdown",
   "id": "a1be1f88-43e2-4c69-b2b9-ca5b35032f17",
   "metadata": {},
   "source": [
    "There are lot of outliers in the most relevant variables. Also they are certainly not normally distributed."
   ]
  },
  {
   "cell_type": "markdown",
   "id": "5c267497-0076-46df-bdd1-5488f378f1fd",
   "metadata": {},
   "source": [
    "I need to remove some of these outliers for a correlation and regression test. To do that, I use the interquartile range method:"
   ]
  },
  {
   "cell_type": "code",
   "execution_count": 80,
   "id": "9d94732a-b03c-48ac-8f87-8da9547d7877",
   "metadata": {},
   "outputs": [],
   "source": [
    "for col in ['asyl_app', 'app', 'rejected']:\n",
    "    Q1 = df[col].quantile(0.25)\n",
    "    Q3 = df[col].quantile(0.75)\n",
    "    IQR = Q3 - Q1\n",
    "    df = df.query(f'({col} >= {Q1 - 1.5 * IQR}) & ({col} <= {Q3 + 1.5 * IQR})')"
   ]
  },
  {
   "cell_type": "code",
   "execution_count": 86,
   "id": "6c04748a-9bf7-4e7b-a7ff-60bc48437fdb",
   "metadata": {},
   "outputs": [
    {
     "data": {
      "image/png": "[encoded data removed]",
      "text/plain": [
       "<Figure size 432x288 with 2 Axes>"
      ]
     },
     "metadata": {
      "needs_background": "light"
     },
     "output_type": "display_data"
    },
    {
     "data": {
      "text/plain": [
       "<Figure size 2160x1080 with 0 Axes>"
      ]
     },
     "metadata": {},
     "output_type": "display_data"
    }
   ],
   "source": [
    "sns.heatmap(df.corr(method='spearman'), vmin=-1, vmax=1, annot=True)\n",
    "plt.figure(figsize = (30,15))\n",
    "\n",
    "plt.show()"
   ]
  },
  {
   "cell_type": "markdown",
   "id": "7a5801dc-1c91-409d-b924-90d164dc4ac3",
   "metadata": {},
   "source": [
    "There appears to be a weak correlation let's see if they are statisctially significant"
   ]
  },
  {
   "cell_type": "code",
   "execution_count": 87,
   "id": "cac905f6-7fd6-492b-89c2-449d1985650e",
   "metadata": {},
   "outputs": [
    {
     "name": "stdout",
     "output_type": "stream",
     "text": [
      "Spearman correlation coefficient: 0.2930352491146371\n",
      "p-value: 3.3441739215962533e-137\n"
     ]
    }
   ],
   "source": [
    "corr, pval = spearmanr(df['asyl_app'], df['rejection_rate'])\n",
    "\n",
    "print('Spearman correlation coefficient:', corr)\n",
    "print('p-value:', pval)"
   ]
  },
  {
   "cell_type": "markdown",
   "id": "3747e476-d8a5-49cc-8cab-e218f5ec91bc",
   "metadata": {},
   "source": [
    "The p-value is way below 0.05 threshold, meaning that the weak correlation between the variables is statistically significant. "
   ]
  },
  {
   "cell_type": "markdown",
   "id": "246c382d-107e-4fef-8e56-58b5124d3bff",
   "metadata": {},
   "source": [
    "I also want to check if there is causality between them, while also controlling for year, the schengen state, and the application country. "
   ]
  },
  {
   "cell_type": "code",
   "execution_count": 88,
   "id": "4f5d579f-046e-425c-9548-f0b2aca46005",
   "metadata": {},
   "outputs": [],
   "source": [
    "df = df[['app_country', 'schengen_state', 'asyl_app', 'rejection_rate']]"
   ]
  },
  {
   "cell_type": "code",
   "execution_count": 91,
   "id": "9b3a04d1-3b21-4aa3-81d0-e9ed41ded329",
   "metadata": {
    "tags": []
   },
   "outputs": [
    {
     "name": "stdout",
     "output_type": "stream",
     "text": [
      "                            OLS Regression Results                            \n",
      "==============================================================================\n",
      "Dep. Variable:         rejection_rate   R-squared:                       0.450\n",
      "Model:                            OLS   Adj. R-squared:                  0.440\n",
      "Method:                 Least Squares   F-statistic:                     44.18\n",
      "Date:                Sat, 01 Apr 2023   Prob (F-statistic):               0.00\n",
      "Time:                        18:08:08   Log-Likelihood:                -26298.\n",
      "No. Observations:                6926   AIC:                         5.285e+04\n",
      "Df Residuals:                    6799   BIC:                         5.372e+04\n",
      "Df Model:                         126                                         \n",
      "Covariance Type:            nonrobust                                         \n",
      "========================================================================================================\n",
      "                                           coef    std err          t      P>|t|      [0.025      0.975]\n",
      "--------------------------------------------------------------------------------------------------------\n",
      "const                                    4.9455      2.064      2.397      0.017       0.900       8.991\n",
      "asyl_app                                 0.0065      0.004      1.683      0.092      -0.001       0.014\n",
      "app_country_Algeria                     18.6926      2.244      8.332      0.000      14.294      23.091\n",
      "app_country_Angola                      20.1890      2.312      8.733      0.000      15.657      24.721\n",
      "app_country_Armenia                     -0.6322      2.612     -0.242      0.809      -5.753       4.489\n",
      "app_country_Azerbaijan                  -3.0557      2.186     -1.398      0.162      -7.341       1.230\n",
      "app_country_Bahrain                     -3.9263      2.658     -1.477      0.140      -9.136       1.284\n",
      "app_country_Bangladesh                  10.0793      2.434      4.141      0.000       5.308      14.851\n",
      "app_country_Belarus                     -9.2490      2.680     -3.451      0.001     -14.502      -3.995\n",
      "app_country_Benin                       18.1692      2.646      6.868      0.000      12.983      23.356\n",
      "app_country_Bhutan                      -3.1240      4.891     -0.639      0.523     -12.711       6.463\n",
      "app_country_Bolivia                      2.1284      2.463      0.864      0.387      -2.699       6.956\n",
      "app_country_Botswana                    -3.9453      3.124     -1.263      0.207     -10.070       2.179\n",
      "app_country_Brunei                      -5.4307      4.367     -1.244      0.214     -13.992       3.130\n",
      "app_country_Burkina Faso                10.1657      2.576      3.946      0.000       5.116      15.216\n",
      "app_country_Burundi                      6.1265      3.725      1.645      0.100      -1.176      13.429\n",
      "app_country_Cambodia                     2.5706      3.117      0.825      0.410      -3.540       8.681\n",
      "app_country_Cameroon                    29.8176      2.784     10.711      0.000      24.360      35.275\n",
      "app_country_Cape Verde                  21.9142      3.237      6.770      0.000      15.569      28.259\n",
      "app_country_Central African Republic    21.2224      6.604      3.213      0.001       8.276      34.169\n",
      "app_country_Chad                        18.5406      6.613      2.804      0.005       5.577      31.504\n",
      "app_country_China                       -4.4403      2.196     -2.022      0.043      -8.745      -0.136\n",
      "app_country_Congo DR                    19.0825      2.378      8.023      0.000      14.420      23.745\n",
      "app_country_Congo-Brazzaville           24.9715      3.449      7.240      0.000      18.211      31.732\n",
      "app_country_Cote D'ivoire               16.5905      2.759      6.012      0.000      11.181      22.000\n",
      "app_country_Cuba                         5.0866      2.120      2.400      0.016       0.931       9.242\n",
      "app_country_Cyprus                       6.4866      2.152      3.014      0.003       2.268      10.705\n",
      "app_country_Czech Republic              -1.5420      2.232     -0.691      0.490      -5.918       2.834\n",
      "app_country_Djibouti                    20.3255      4.160      4.886      0.000      12.171      28.480\n",
      "app_country_Dominican Republic          23.0570      2.654      8.688      0.000      17.854      28.260\n",
      "app_country_Ecuador                      2.4427      2.456      0.995      0.320      -2.372       7.257\n",
      "app_country_Egypt                        7.1403      2.100      3.400      0.001       3.024      11.257\n",
      "app_country_Equatorial Guinea            6.1048      3.253      1.877      0.061      -0.272      12.481\n",
      "app_country_Eritrea                     21.1304      5.823      3.629      0.000       9.715      32.546\n",
      "app_country_Ethiopia                    11.2449      2.137      5.262      0.000       7.056      15.434\n",
      "app_country_Fiji                        -1.0559      4.014     -0.263      0.792      -8.924       6.812\n",
      "app_country_Gabon                       11.7365      2.907      4.038      0.000       6.038      17.435\n",
      "app_country_Ghana                       27.2851      2.446     11.154      0.000      22.490      32.080\n",
      "app_country_Guinea                      37.5837      4.127      9.106      0.000      29.493      45.674\n",
      "app_country_Guinea-Bissau               15.2553      2.863      5.329      0.000       9.643      20.867\n",
      "app_country_Haiti                       13.1046      3.428      3.823      0.000       6.385      19.824\n",
      "app_country_India                        3.3440      2.183      1.532      0.126      -0.935       7.623\n",
      "app_country_Indonesia                   -6.4059      2.121     -3.021      0.003     -10.563      -2.249\n",
      "app_country_Iran                        11.2086      2.240      5.003      0.000       6.817      15.601\n",
      "app_country_Iraq                         9.4674      2.509      3.774      0.000       4.549      14.386\n",
      "app_country_Jamaica                     -0.8093      2.554     -0.317      0.751      -5.816       4.198\n",
      "app_country_Jordan                       4.9912      2.144      2.328      0.020       0.788       9.194\n",
      "app_country_Kazakhstan                  -5.9225      2.156     -2.747      0.006     -10.148      -1.697\n",
      "app_country_Kenya                        6.8609      2.095      3.275      0.001       2.754      10.968\n",
      "app_country_Kosovo                       9.8813      2.549      3.876      0.000       4.884      14.879\n",
      "app_country_Kuwait                      -4.4385      2.194     -2.023      0.043      -8.740      -0.137\n",
      "app_country_Kyrgyzstan                   1.9324      3.099      0.624      0.533      -4.143       8.008\n",
      "app_country_Laos                         0.4088      2.942      0.139      0.889      -5.359       6.177\n",
      "app_country_Lebanon                      5.4107      2.173      2.489      0.013       1.150       9.671\n",
      "app_country_Libya                        2.7612      2.290      1.206      0.228      -1.728       7.251\n",
      "app_country_Madagascar                  11.6884      3.104      3.766      0.000       5.604      17.772\n",
      "app_country_Malawi                      -6.8919      3.254     -2.118      0.034     -13.271      -0.513\n",
      "app_country_Mali                        27.2029      2.705     10.058      0.000      21.901      32.505\n",
      "app_country_Mauritania                  13.2474      3.377      3.922      0.000       6.626      19.868\n",
      "app_country_Moldova                     -3.8473      2.388     -1.611      0.107      -8.528       0.834\n",
      "app_country_Mongolia                     4.1131      2.551      1.612      0.107      -0.888       9.114\n",
      "app_country_Morocco                     14.6881      2.241      6.553      0.000      10.294      19.082\n",
      "app_country_Mozambique                  -2.0768      2.214     -0.938      0.348      -6.417       2.263\n",
      "app_country_Myanmar                     -3.1734      2.625     -1.209      0.227      -8.319       1.973\n",
      "app_country_Namibia                     -6.8883      2.546     -2.705      0.007     -11.879      -1.897\n",
      "app_country_Nepal                       11.9020      2.426      4.906      0.000       7.146      16.658\n",
      "app_country_Niger                        6.0946      2.934      2.077      0.038       0.342      11.847\n",
      "app_country_Nigeria                     34.1856      2.258     15.139      0.000      29.759      38.612\n",
      "app_country_North Korea                 -0.9504      2.556     -0.372      0.710      -5.960       4.060\n",
      "app_country_Oman                        -3.2558      2.355     -1.383      0.167      -7.872       1.360\n",
      "app_country_Pakistan                    24.6698      2.302     10.716      0.000      20.157      29.183\n",
      "app_country_Palestine                    4.4190      2.719      1.625      0.104      -0.910       9.748\n",
      "app_country_Philippines                  0.1745      2.238      0.078      0.938      -4.212       4.561\n",
      "app_country_Qatar                       -0.9719      2.224     -0.437      0.662      -5.332       3.388\n",
      "app_country_Russia                      -6.7652      2.452     -2.759      0.006     -11.572      -1.958\n",
      "app_country_Rwanda                      -0.5829      2.737     -0.213      0.831      -5.948       4.782\n",
      "app_country_Sao Tome and Principe        4.4321      3.663      1.210      0.226      -2.748      11.612\n",
      "app_country_Saudi Arabia                -3.1152      2.143     -1.454      0.146      -7.316       1.085\n",
      "app_country_Senegal                     33.1058      2.533     13.070      0.000      28.141      38.071\n",
      "app_country_South Africa                -6.5424      2.121     -3.085      0.002     -10.700      -2.385\n",
      "app_country_South Korea                  1.5561      2.103      0.740      0.459      -2.566       5.679\n",
      "app_country_South Sudan                 -4.5850      3.844     -1.193      0.233     -12.120       2.950\n",
      "app_country_Sri Lanka                    6.5228      2.673      2.440      0.015       1.282      11.764\n",
      "app_country_Sudan                       15.1554      2.401      6.312      0.000      10.449      19.862\n",
      "app_country_Suriname                     2.3393      3.472      0.674      0.500      -4.467       9.146\n",
      "app_country_Syria                       15.3390      2.448      6.265      0.000      10.539      20.139\n",
      "app_country_Taiwan                      -5.1176      2.156     -2.373      0.018      -9.344      -0.891\n",
      "app_country_Tajikistan                  -3.3370      5.273     -0.633      0.527     -13.674       7.000\n",
      "app_country_Tanzania                     2.9453      2.185      1.348      0.178      -1.337       7.228\n",
      "app_country_Thailand                    -4.5031      2.141     -2.104      0.035      -8.700      -0.307\n",
      "app_country_Timor-leste                  3.5903      3.765      0.954      0.340      -3.791      10.971\n",
      "app_country_Togo                        15.5923      3.723      4.188      0.000       8.295      22.890\n",
      "app_country_Tunisia                     11.5132      2.179      5.284      0.000       7.242      15.785\n",
      "app_country_Turkey                      -2.0426      2.161     -0.945      0.344      -6.278       2.193\n",
      "app_country_Turkmenistan                -4.8131      2.809     -1.713      0.087     -10.320       0.693\n",
      "app_country_Uganda                       6.3295      2.342      2.702      0.007       1.738      10.921\n",
      "app_country_Uzbekistan                   0.8109      2.254      0.360      0.719      -3.607       5.229\n",
      "app_country_Venezuela                    5.0297      2.206      2.280      0.023       0.705       9.354\n",
      "app_country_Viet Nam                     1.7939      2.267      0.791      0.429      -2.649       6.237\n",
      "app_country_Vietnam                      0.8260      2.239      0.369      0.712      -3.563       5.215\n",
      "app_country_Yemen                        6.6601      2.821      2.361      0.018       1.130      12.190\n",
      "app_country_Zambia                      -1.7631      2.420     -0.729      0.466      -6.506       2.980\n",
      "app_country_Zimbabwe                    -1.4719      2.228     -0.661      0.509      -5.840       2.896\n",
      "schengen_state_Belgium                   6.5499      0.889      7.368      0.000       4.807       8.293\n",
      "schengen_state_Czechia                   6.7473      0.838      8.056      0.000       5.105       8.389\n",
      "schengen_state_Denmark                   2.8142      0.943      2.984      0.003       0.965       4.663\n",
      "schengen_state_Estonia                   9.6299      1.575      6.114      0.000       6.542      12.717\n",
      "schengen_state_Finland                  12.5566      0.914     13.739      0.000      10.765      14.348\n",
      "schengen_state_France                    0.8313      0.887      0.937      0.349      -0.908       2.570\n",
      "schengen_state_Germany                   2.8388      0.876      3.239      0.001       1.121       4.557\n",
      "schengen_state_Greece                    2.2798      0.887      2.570      0.010       0.541       4.019\n",
      "schengen_state_Hungary                   6.8643      0.862      7.967      0.000       5.175       8.553\n",
      "schengen_state_Iceland                   3.0723      2.457      1.250      0.211      -1.745       7.889\n",
      "schengen_state_Italy                     0.4019      0.863      0.466      0.641      -1.289       2.093\n",
      "schengen_state_Latvia                    7.6714      1.372      5.593      0.000       4.982      10.360\n",
      "schengen_state_Lithuania                11.8063      1.347      8.762      0.000       9.165      14.448\n",
      "schengen_state_Luxembourg                1.7088      1.563      1.094      0.274      -1.355       4.772\n",
      "schengen_state_Malta                    10.1700      1.391      7.313      0.000       7.444      12.896\n",
      "schengen_state_Netherlands               4.6473      0.845      5.502      0.000       2.992       6.303\n",
      "schengen_state_Norway                    7.2033      0.900      8.008      0.000       5.440       8.967\n",
      "schengen_state_Poland                    7.0666      0.821      8.605      0.000       5.457       8.677\n",
      "schengen_state_Portugal                  5.2576      0.940      5.592      0.000       3.414       7.101\n",
      "schengen_state_Slovakia                  2.2262      0.936      2.379      0.017       0.392       4.061\n",
      "schengen_state_Slovenia                  4.7318      1.521      3.112      0.002       1.751       7.712\n",
      "schengen_state_Spain                     1.2213      0.885      1.380      0.168      -0.514       2.956\n",
      "schengen_state_Sweden                    6.7332      1.028      6.551      0.000       4.719       8.748\n",
      "schengen_state_Switzerland              -0.2786      0.846     -0.329      0.742      -1.937       1.380\n",
      "==============================================================================\n",
      "Omnibus:                     2685.334   Durbin-Watson:                   1.331\n",
      "Prob(Omnibus):                  0.000   Jarque-Bera (JB):            18701.798\n",
      "Skew:                           1.693   Prob(JB):                         0.00\n",
      "Kurtosis:                      10.303   Cond. No.                     7.30e+03\n",
      "==============================================================================\n",
      "\n",
      "Notes:\n",
      "[1] Standard Errors assume that the covariance matrix of the errors is correctly specified.\n",
      "[2] The condition number is large, 7.3e+03. This might indicate that there are\n",
      "strong multicollinearity or other numerical problems.\n"
     ]
    }
   ],
   "source": [
    "app_country_dummies = pd.get_dummies(df['app_country'], prefix='app_country', drop_first = True)\n",
    "schengen_country_dummies = pd.get_dummies(df['schengen_state'], prefix='schengen_state', drop_first = True)\n",
    "\n",
    "df_with_dummies = pd.concat([df, app_country_dummies, schengen_country_dummies], axis=1)\n",
    "\n",
    "y = df_with_dummies['rejection_rate']\n",
    "X = df_with_dummies.drop(columns=['app_country', 'schengen_state', 'rejection_rate'])\n",
    "\n",
    "X = sm.add_constant(X)\n",
    "\n",
    "model = sm.OLS(y, X).fit()\n",
    "\n",
    "print(model.summary())"
   ]
  },
  {
   "cell_type": "markdown",
   "id": "6206e1cc-20c4-49c9-8620-2067b294a758",
   "metadata": {},
   "source": [
    "The model has an R-squared value of 0.450, indicating that about 45% of the fluctuations in visa rejection rates can be attributed to the variables in the model. The F-statistic is 44.18, with an extremely low p-value, suggesting that the model is statistically significant and that at least one of the variables has a notable influence on visa rejection rates.\n",
    "\n",
    "Regarding asylum applications, there's a positive coefficient of 0.0065, implying that an increase in asylum applications might be connected to higher visa rejection rates. However, the p-value for this variable is 0.092, which means it's not statistically significant at a 5% significance level."
   ]
  },
  {
   "cell_type": "markdown",
   "id": "f11763aa-53db-4e66-98a9-7a120ca50f28",
   "metadata": {},
   "source": [
    "# Conclusion"
   ]
  },
  {
   "cell_type": "markdown",
   "id": "f9749c0f-a256-418b-8043-771dc740a721",
   "metadata": {},
   "source": [
    "In conclusion, I set set out to explore the relationship between visa rejection rates and asylum applications. The results from the Pearson correlation test suggested a weak yet statistically significant correlation between the two variables, hinting at a potential linear relationship. However, when I dug deeper into the data using the OLS regression model, controlling for additional factors such as the applicant's country and the Schengen state, the relationship between these variables appeared less clear-cut.\n",
    "\n",
    "The findings from the OLS regression model indicate that, when taking these other factors into account, there is no strong evidence to suggest that the number of asylum applications has a significant effect on the visa rejection rate. This underscores the complexity of the relationship between visa rejection rates and asylum applications and highlights the importance of considering various factors that might influence this relationship.\n",
    "\n",
    "While my analysis has provided some insights into the dynamics between asylum applications and visa rejection rates, it is clear that further research is needed to better understand the interplay between these variables and the role of other potential factors."
   ]
  }
 ],
 "metadata": {
  "kernelspec": {
   "display_name": "Python 3 (ipykernel)",
   "language": "python",
   "name": "python3"
  },
  "language_info": {
   "codemirror_mode": {
    "name": "ipython",
    "version": 3
   },
   "file_extension": ".py",
   "mimetype": "text/x-python",
   "name": "python",
   "nbconvert_exporter": "python",
   "pygments_lexer": "ipython3",
   "version": "3.9.12"
  }
 },
 "nbformat": 4,
 "nbformat_minor": 5
}
